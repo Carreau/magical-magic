{
 "cells": [
  {
   "cell_type": "markdown",
   "metadata": {},
   "source": [
    "## Automation\n",
    "Nothing too fancy here."
   ]
  },
  {
   "cell_type": "code",
   "execution_count": 28,
   "metadata": {
    "collapsed": false
   },
   "outputs": [
    {
     "name": "stdout",
     "output_type": "stream",
     "text": [
      "Overwriting tricks.yaml\n"
     ]
    }
   ],
   "source": [
    "# %%file tricks.yaml\n",
    "# tricks:\n",
    "# - watchdog.tricks.ShellCommandTrick:\n",
    "#     patterns: \n",
    "#     - \"*.ipynb\"\n",
    "#     ignore_patterns: ['*/.~*.ipynb', '*/.ipynb_checkpoints*']\n",
    "#     shell_command: >\n",
    "#         jupyter nbconvert --to script \"${watch_src_path}\" && python automate.py && py.test"
   ]
  },
  {
   "cell_type": "code",
   "execution_count": 75,
   "metadata": {
    "collapsed": false
   },
   "outputs": [
    {
     "name": "stdout",
     "output_type": "stream",
     "text": [
      "Overwriting setup.py\n"
     ]
    }
   ],
   "source": [
    "# %%file setup.py\n",
    "# from os.path import join, dirname\n",
    "# import setuptools\n",
    "\n",
    "# def read(fname):\n",
    "#     with open(join(dirname(__file__), fname)) as f:\n",
    "#         return f.read()\n",
    "\n",
    "# setuptools.setup(\n",
    "#     name=\"whatever-forever\",\n",
    "#     version=\"0.0.11\",\n",
    "#     author=\"Tony Fast\",\n",
    "#     author_email=\"tony.fast@gmail.com\",\n",
    "#     description=\"prototype whatever in the Jupyter notebook\",\n",
    "#     license=\"BSD-3-Clause\",\n",
    "#     keywords=\"IPython Magic Jupyter\",\n",
    "#     url=\"http://github.com/tonyfast/whatever-forever\",\n",
    "#     packages=setuptools.find_packages(),\n",
    "#     long_description=read(\"README.rst\"),\n",
    "#     classifiers=[\n",
    "#         \"Topic :: Utilities\",\n",
    "#         \"Framework :: IPython\",\n",
    "#         \"Natural Language :: English\",\n",
    "#         \"Programming Language :: Python\",\n",
    "#         \"Intended Audience :: Developers\",\n",
    "#         \"Development Status :: 3 - Alpha\",\n",
    "#         \"Operating System :: OS Independent\",\n",
    "#         \"Programming Language :: Python :: 3\",\n",
    "#         \"License :: OSI Approved :: BSD License\",\n",
    "#         \"Topic :: Software Development :: Testing\",\n",
    "#     ],\n",
    "#     install_requires=[\n",
    "#         \"toolz\",\n",
    "#     ]\n",
    "# )"
   ]
  },
  {
   "cell_type": "code",
   "execution_count": null,
   "metadata": {
    "collapsed": true
   },
   "outputs": [],
   "source": [
    "# %load automate.py\n",
    "\n",
    "\n",
    "# ## Automation\n",
    "# Nothing too fancy here.\n",
    "\n",
    "# In[26]:\n",
    "\n",
    "# %%file tricks.yaml\n",
    "# tricks:\n",
    "# - watchdog.tricks.ShellCommandTrick:\n",
    "#     patterns: \n",
    "#     - \"*.ipynb\"\n",
    "#     ignore_patterns: ['*/.~*.ipynb', '*/.ipynb_checkpoints*']\n",
    "#     shell_command: >\n",
    "#         jupyter nbconvert --to script \"${watch_src_path}\" && &&py.test\n",
    "\n",
    "\n",
    "# In[75]:\n",
    "\n",
    "# %%file setup.py\n",
    "# from os.path import join, dirname\n",
    "# import setuptools\n",
    "\n",
    "# def read(fname):\n",
    "#     with open(join(dirname(__file__), fname)) as f:\n",
    "#         return f.read()\n",
    "\n",
    "# setuptools.setup(\n",
    "#     name=\"whatever-forever\",\n",
    "#     version=\"0.0.11\",\n",
    "#     author=\"Tony Fast\",\n",
    "#     author_email=\"tony.fast@gmail.com\",\n",
    "#     description=\"prototype whatever in the Jupyter notebook\",\n",
    "#     license=\"BSD-3-Clause\",\n",
    "#     keywords=\"IPython Magic Jupyter\",\n",
    "#     url=\"http://github.com/tonyfast/whatever-forever\",\n",
    "#     packages=setuptools.find_packages(),\n",
    "#     long_description=read(\"README.rst\"),\n",
    "#     classifiers=[\n",
    "#         \"Topic :: Utilities\",\n",
    "#         \"Framework :: IPython\",\n",
    "#         \"Natural Language :: English\",\n",
    "#         \"Programming Language :: Python\",\n",
    "#         \"Intended Audience :: Developers\",\n",
    "#         \"Development Status :: 3 - Alpha\",\n",
    "#         \"Operating System :: OS Independent\",\n",
    "#         \"Programming Language :: Python :: 3\",\n",
    "#         \"License :: OSI Approved :: BSD License\",\n",
    "#         \"Topic :: Software Development :: Testing\",\n",
    "#     ],\n",
    "#     install_requires=[\n",
    "#         \"toolz\",\n",
    "#     ]\n",
    "# )\n",
    "\n",
    "\n",
    "# In[7]:"
   ]
  },
  {
   "cell_type": "code",
   "execution_count": 130,
   "metadata": {
    "collapsed": true
   },
   "outputs": [],
   "source": [
    "import os\n",
    "from glob import glob\n",
    "from pyquery import PyQuery as pq\n",
    "from nbconvert import export_html\n",
    "for the_script in glob('whatever/*.py'):\n",
    "    with open(the_script) as f:\n",
    "        src = f.read()\n",
    "    with open(the_script, 'w') as f:\n",
    "        f.write(src.replace('from class_maker import', 'from .class_maker import'))\n",
    "\n",
    "for the_docs in [\n",
    "    *glob('whatever/*.ipynb'),\n",
    "    *glob('docs/*.ipynb'), *glob('docs/**/*.ipynb')\n",
    "]:\n",
    "    with open(the_docs) as f:\n",
    "        q = pq(export_html(the_docs)[0])\n",
    "    path = the_docs.split('/')\n",
    "    fn = path[-1]\n",
    "    if path[0] == 'whatever':\n",
    "        path[0] = 'docs/source'\n",
    "    directory = '/'.join(path[:-1])\n",
    "    if not os.path.isdir(directory):\n",
    "        makedirs(directory)\n",
    "    with open(directory+'/'+fn.replace('.ipynb','.html'), 'w') as f:\n",
    "        f.write(\n",
    "            \"\"\"---\n",
    "layout: index\n",
    "---\n",
    "{% raw %}\"\"\"+q('body').html(method='html')+ \"\"\"\n",
    "{% endraw %}\"\"\")\n",
    "        \n",
    "directory = 'docs/_layouts'\n",
    "if not os.path.isdir(directory):\n",
    "    makedirs(directory)\n",
    "\n",
    "with open('docs/_layouts/index.html', 'w') as f:\n",
    "    q('body').html('{{content}}', method='html')\n",
    "    f.write(\n",
    "        \"\"\"<!doctype html><html>\"\"\"+q.html(method='html').strip()+\"\"\"</html>\"\"\"\n",
    "    )"
   ]
  },
  {
   "cell_type": "code",
   "execution_count": 95,
   "metadata": {
    "collapsed": true
   },
   "outputs": [],
   "source": [
    "# In[8]:\n",
    "\n",
    "# !python setup.py develop\n",
    "\n",
    "\n",
    "# ### Run tests\n",
    "\n",
    "# In[25]:\n",
    "\n",
    "# !flake8\n",
    "\n",
    "\n",
    "# ## Test Release for PyPi\n",
    "\n",
    "# In[26]:\n",
    "\n",
    "# !python setup.py register -r pypitest\n",
    "# !python setup.py sdist\n",
    "# !python setup.py bdist_wheel\n",
    "# !python setup.py sdist upload -r pypitest\n",
    "# !python setup.py bdist_wheel upload -r pypitest\n",
    "\n",
    "\n",
    "# # Cut a real release for PyPi\n",
    "\n",
    "# In[28]:\n",
    "\n",
    "# !python setup.py register -r pypi\n",
    "# !python setup.py sdist\n",
    "# !python setup.py bdist_wheel\n",
    "# !python setup.py sdist upload -r pypi\n",
    "# !python setup.py bdist_wheel upload -r pypi\n",
    "\n",
    "\n",
    "# In[30]:\n",
    "\n",
    "# !pip install whatever-forever --upgrade --no-cache-dir\n",
    "\n",
    "\n",
    "# In[ ]:"
   ]
  },
  {
   "cell_type": "code",
   "execution_count": 7,
   "metadata": {
    "collapsed": true
   },
   "outputs": [],
   "source": [
    "from glob import glob\n",
    "for the_script in glob('whatever/*.py'):\n",
    "    with open(the_script) as f:\n",
    "        src = f.read()\n",
    "    with open(the_script, 'w') as f:\n",
    "        f.write(src.replace('from class_maker import', 'from .class_maker import'))"
   ]
  },
  {
   "cell_type": "code",
   "execution_count": 8,
   "metadata": {
    "collapsed": false
   },
   "outputs": [
    {
     "name": "stdout",
     "output_type": "stream",
     "text": [
      "running develop\n",
      "running egg_info\n",
      "writing top-level names to whatever_forever.egg-info/top_level.txt\n",
      "writing dependency_links to whatever_forever.egg-info/dependency_links.txt\n",
      "writing requirements to whatever_forever.egg-info/requires.txt\n",
      "writing whatever_forever.egg-info/PKG-INFO\n",
      "reading manifest file 'whatever_forever.egg-info/SOURCES.txt'\n",
      "reading manifest template 'MANIFEST.in'\n",
      "warning: no files found matching '*.md'\n",
      "warning: no files found matching '*.ipynb' under directory 'tests/'\n",
      "writing manifest file 'whatever_forever.egg-info/SOURCES.txt'\n",
      "running build_ext\n",
      "Creating /Users/tfast/anaconda/lib/python3.5/site-packages/whatever-forever.egg-link (link to .)\n",
      "whatever-forever 0.0.11 is already the active version in easy-install.pth\n",
      "\n",
      "Installed /Users/tfast/whatever-forever\n",
      "Processing dependencies for whatever-forever==0.0.11\n",
      "Searching for toolz==0.8.0\n",
      "Best match: toolz 0.8.0\n",
      "Adding toolz 0.8.0 to easy-install.pth file\n",
      "\n",
      "Using /Users/tfast/anaconda/lib/python3.5/site-packages\n",
      "Finished processing dependencies for whatever-forever==0.0.11\n"
     ]
    }
   ],
   "source": [
    "# !python setup.py develop"
   ]
  },
  {
   "cell_type": "markdown",
   "metadata": {},
   "source": [
    "### Run tests"
   ]
  },
  {
   "cell_type": "code",
   "execution_count": 25,
   "metadata": {
    "collapsed": false
   },
   "outputs": [],
   "source": [
    "# !flake8"
   ]
  },
  {
   "cell_type": "markdown",
   "metadata": {},
   "source": [
    "## Test Release for PyPi"
   ]
  }
 ],
 "metadata": {
  "anaconda-cloud": {},
  "kernelspec": {
   "display_name": "Python [Root]",
   "language": "python",
   "name": "Python [Root]"
  },
  "language_info": {
   "codemirror_mode": {
    "name": "ipython",
    "version": 3
   },
   "file_extension": ".py",
   "mimetype": "text/x-python",
   "name": "python",
   "nbconvert_exporter": "python",
   "pygments_lexer": "ipython3",
   "version": "3.5.2"
  }
 },
 "nbformat": 4,
 "nbformat_minor": 0
}
