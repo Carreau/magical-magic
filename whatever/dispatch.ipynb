{
 "cells": [
  {
   "cell_type": "code",
   "execution_count": 76,
   "metadata": {
    "collapsed": false
   },
   "outputs": [],
   "source": [
    "from itertools import zip_longest\n",
    "from toolz.curried import (\n",
    "    compose, filter, first, identity, juxt, last,\n",
    "    map, partial, pipe, second, valmap\n",
    ")\n",
    "from collections import OrderedDict\n",
    "from typing import Iterable\n",
    "\n",
    "__all__ = ['Dispatch']\n",
    "\n",
    "class Dispatch(OrderedDict):\n",
    "    \"\"\"An object that provides multiple dispatch when it is called.\n",
    "    \"\"\"\n",
    "    def __getattr__(self, attr):\n",
    "        print(attr)\n",
    "        return super().__getattr__(attr)\n",
    "\n",
    "    def __call__(self, *args, **kwargs):\n",
    "        fns = pipe(\n",
    "                self, map(\n",
    "                    juxt(lambda x: x if isinstance(x, Iterable) else tuple([x]),\n",
    "                        self.get, identity,)),\n",
    "                map(\n",
    "                    lambda x: [pipe(x[0], partial(zip_longest, args), list), *x[1:]]\n",
    "                ),\n",
    "                filter(compose(lambda x: len(x) == len(args), first)), \n",
    "                list,\n",
    "            )        \n",
    "        if fns:\n",
    "            return pipe(fns, first, second)(*args)\n",
    "\n",
    "        raise TypeError(\"Type not found\")"
   ]
  }
 ],
 "metadata": {
  "anaconda-cloud": {},
  "kernelspec": {
   "display_name": "Python [Root]",
   "language": "python",
   "name": "Python [Root]"
  },
  "language_info": {
   "codemirror_mode": {
    "name": "ipython",
    "version": 3
   },
   "file_extension": ".py",
   "mimetype": "text/x-python",
   "name": "python",
   "nbconvert_exporter": "python",
   "pygments_lexer": "ipython3",
   "version": "3.5.2"
  }
 },
 "nbformat": 4,
 "nbformat_minor": 0
}
