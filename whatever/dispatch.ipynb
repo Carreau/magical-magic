{
 "cells": [
  {
   "cell_type": "code",
   "execution_count": 1,
   "metadata": {
    "collapsed": false
   },
   "outputs": [],
   "source": [
    "from collections import OrderedDict\n",
    "from typing import Iterable, Any\n",
    "\n",
    "__all__ = ['Dispatch']\n",
    "\n",
    "class Dispatch(OrderedDict):\n",
    "    \"\"\"An object that provides multiple dispatch when it is called.\n",
    "    \"\"\"\n",
    "    def __call__(self, *args, **kwargs):\n",
    "        for types, fn in self.items():\n",
    "            if not isinstance(types, Iterable):\n",
    "                types = tuple([types])\n",
    "            if len(args) == len(types):\n",
    "                for arg, type_ in zip(args, types):\n",
    "                    if type_ != Any and not isinstance(arg, type_): break\n",
    "                else:\n",
    "                    return fn(*args)\n",
    "        raise TypeError(\"Type(s) not found\")"
   ]
  }
 ],
 "metadata": {
  "anaconda-cloud": {},
  "kernelspec": {
   "display_name": "Python [Root]",
   "language": "python",
   "name": "Python [Root]"
  },
  "language_info": {
   "codemirror_mode": {
    "name": "ipython",
    "version": 3
   },
   "file_extension": ".py",
   "mimetype": "text/x-python",
   "name": "python",
   "nbconvert_exporter": "python",
   "pygments_lexer": "ipython3",
   "version": "3.5.2"
  }
 },
 "nbformat": 4,
 "nbformat_minor": 0
}
