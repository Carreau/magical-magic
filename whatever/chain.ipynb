{
 "cells": [
  {
   "cell_type": "markdown",
   "metadata": {},
   "source": [
    "It should be easier to construct complicated functions.  Python has named a lot of things, and\n",
    "large scale adoption of certain libraries make names meaningful.  `Chain` is inspired by `pytoolz`\n",
    "and `underscorejs`.  The [`pytoolz` documentation does a fantastic describing functional programming](toolz.readthedocs.io).\n",
    "\n",
    "There are a few functional programming tools in Python ecosystem.  I would up breaking them \n",
    "very quickly after trying them __Or__ the didn't work in the Jupyter notebook.\n",
    "\n",
    "A `Chain` is efficient for prototyping and scaling complicated actions.  \n",
    "\n",
    "A Chain class\n",
    "\n",
    "* composes functions.  `Chain` must be explicitly computed using `value` or `>`\n",
    "* has a special attribute `value`\n",
    "* a `copy` method\n",
    "* overloads `__or__` and `__gt__`\n",
    "    * Provides semi-functional syntax for evaluation"
   ]
  },
  {
   "cell_type": "markdown",
   "metadata": {},
   "source": [
    "The only required import is `toolz` from pypi"
   ]
  },
  {
   "cell_type": "code",
   "execution_count": 1,
   "metadata": {
    "collapsed": false
   },
   "outputs": [],
   "source": [
    "from .callables import SetCallable, TupleCallable, ListCallable, DictCallable, Dispatch\n",
    "import builtins\n",
    "import operator\n",
    "import toolz.curried\n",
    "from toolz.curried import (\n",
    "    complement, compose, concat, do, filter, \n",
    "    first, flip, identity, juxt, last, map, partial, \n",
    "    pipe, second, valmap,\n",
    ")\n",
    "from typing import Any, Callable\n",
    "from collections import OrderedDict\n",
    "from types import LambdaType, MethodType\n",
    "\n",
    "__all__ = ['Chain', '_X', 'this',]"
   ]
  },
  {
   "cell_type": "markdown",
   "metadata": {},
   "source": [
    "```python\n",
    "Chain([1,2]).map(lambda x: x**2).list().value()\n",
    "```"
   ]
  },
  {
   "cell_type": "code",
   "execution_count": 2,
   "metadata": {
    "collapsed": false
   },
   "outputs": [],
   "source": [
    "def import_functions(module): \n",
    "    return pipe(\n",
    "        module, dir, map(partial(getattr, module)),\n",
    "        filter(partial(flip(hasattr), '__name__')),\n",
    "    )"
   ]
  },
  {
   "cell_type": "code",
   "execution_count": 3,
   "metadata": {
    "collapsed": true
   },
   "outputs": [],
   "source": [
    "def evaluate(args, kwargs, fn):\n",
    "    return fn(*args, **kwargs)\n",
    "\n",
    "class DefaultComposer(object):\n",
    "    keyed_methods = pipe([\n",
    "            toolz.curried, builtins, operator\n",
    "        ], map(import_functions), concat, map(juxt(\n",
    "            partial(flip(getattr), '__name__'), identity\n",
    "        )), list,  reversed, dict)\n",
    "    @staticmethod\n",
    "    def item(item):\n",
    "        return item\n",
    "    \n",
    "    @classmethod\n",
    "    def attr(cls, item):\n",
    "        return cls.keyed_methods.get(item)\n",
    "    \n",
    "    @staticmethod\n",
    "    def call(tokens, *args, **kwargs):\n",
    "        tokens[-1][1:] = args, kwargs\n",
    "        return tokens\n",
    "    \n",
    "    @staticmethod\n",
    "    def composer(tokens):\n",
    "        return compose(*pipe(\n",
    "            tokens, reversed, filter(first), map(\n",
    "                lambda arg: partial(arg[0], *arg[1], **arg[2]) if any(arg[1:]) else arg[0]\n",
    "            ), list\n",
    "        ))"
   ]
  },
  {
   "cell_type": "code",
   "execution_count": 4,
   "metadata": {
    "collapsed": true
   },
   "outputs": [],
   "source": [
    "class Repr(object):\n",
    "    def __repr__(self):\n",
    "        return self.value().__repr__()"
   ]
  },
  {
   "cell_type": "code",
   "execution_count": 6,
   "metadata": {
    "collapsed": false
   },
   "outputs": [],
   "source": [
    "class Chain(Repr): \n",
    "    _composer = DefaultComposer\n",
    "    \n",
    "    def __init__(\n",
    "        self,\n",
    "        *args, \n",
    "        **kwargs\n",
    "    ):  \n",
    "        # Tokens record function, arguments, and keywork arguments.\n",
    "        self._tokens = []\n",
    "        \n",
    "        # Default context to evaluate the chain.\n",
    "        self._args, self._kwargs = args, kwargs\n",
    "\n",
    "    def value(self, *args, **kwargs)->[Any, None]:\n",
    "        \"\"\"Compose and evaluate the function.  If no args or kwargs are provided\n",
    "        then the initialized context is used.\n",
    "        \"\"\"\n",
    "        fn = self._composer.composer(self._tokens)\n",
    "        \n",
    "        # If any new arguments have been supplied then use them\n",
    "        if args or kwargs: \n",
    "            return fn(*args, **kwargs)\n",
    "        \n",
    "        # If there are default kwargs\n",
    "        if self._kwargs:\n",
    "            return fn(*self._args, **self._kwargs)\n",
    "        \n",
    "        # If there is a context\n",
    "        if self._args: \n",
    "            return fn(*self._args)\n",
    "\n",
    "        return None\n",
    "    \n",
    "    def _tokenize(self, composer, attr):\n",
    "        attr = composer(attr)\n",
    "        if isinstance(attr, Callable):\n",
    "            attr = [[attr, [], ()]]\n",
    "        return attr\n",
    "\n",
    "    def __getattr__(self, attr):\n",
    "        \"\"\"Apply the attribute getter\n",
    "        \"\"\"\n",
    "        self._tokens.extend(\n",
    "            self._tokenize(self._composer.attr, attr)\n",
    "        )\n",
    "        return self\n",
    "    \n",
    "    def __getitem__(self, item):\n",
    "        \"\"\"Any function in the item can be tokenized.\n",
    "        \"\"\"\n",
    "        self._tokens.extend(\n",
    "            self._tokenize(self._composer.item, item)\n",
    "        )\n",
    "\n",
    "        return self\n",
    "    \n",
    "    def __call__(self, *args, **kwargs):\n",
    "        self._tokens = self._composer.call(\n",
    "            self._tokens, *args, **kwargs\n",
    "        )\n",
    "        return self\n",
    "    \n",
    "    def copy(self, klass=None):\n",
    "        \"\"\"Create a new instance of the current chain.  Used for \n",
    "        \"\"\"\n",
    "        chain = (klass if klass else self.__class__)(*self._args, **self._kwargs)\n",
    "        chain._tokens = self._tokens.copy()\n",
    "        return chain\n",
    "    \n",
    "    @property\n",
    "    def compose(self):\n",
    "        return self._composer.composer(self._tokens)"
   ]
  },
  {
   "cell_type": "markdown",
   "metadata": {},
   "source": [
    "```\n",
    "XXXXXXXXXXXXXXXXXXXXXXXXXX\n",
    "XXXXXXXChainXXXXXLinkXXXXX\n",
    "XXXXXShorthandXXXXXXXXXXXX\n",
    "XXXXXXXXXXXXXXXXXXXXXXXXXX\n",
    "```"
   ]
  },
  {
   "cell_type": "markdown",
   "metadata": {},
   "source": [
    "> Copy the state of the chain and return a new one."
   ]
  },
  {
   "cell_type": "markdown",
   "metadata": {},
   "source": [
    "##### Some sweet ol' syntactic sugar that looks like functional programming.\n",
    "\n",
    "> `__or__`\n",
    "\n",
    ">   * adds a piping method to a chain.  Any functional can be included in the pipe.\n",
    ">   * is shorthand for a copy and a an append."
   ]
  },
  {
   "cell_type": "markdown",
   "metadata": {},
   "source": [
    "> `this` is a modified chain that can access items and attributes.\n",
    "\n",
    "> Most frequently, the `f` or `value` must be called as a function closure.\n",
    "\n",
    "```python\n",
    "this().set_index('A').index.values.f\n",
    "this().set_index('A')[['B', 'D']].f\n",
    "```"
   ]
  },
  {
   "cell_type": "code",
   "execution_count": null,
   "metadata": {
    "collapsed": true
   },
   "outputs": [],
   "source": [
    "multiple_dispatch = Dispatch([        \n",
    "        [set, SetCallable],\n",
    "        [list, ListCallable],                \n",
    "        [tuple, TupleCallable],                                \n",
    "        [dict, DictCallable],\n",
    "        [Any, identity],])"
   ]
  },
  {
   "cell_type": "code",
   "execution_count": 50,
   "metadata": {
    "collapsed": false
   },
   "outputs": [],
   "source": [
    "class SugarComposer(DefaultComposer):    \n",
    "    def item(item):\n",
    "        return multiple_dispatch(item)    \n",
    "    \n",
    "    @classmethod\n",
    "    def call(cls, tokens, *args, **kwargs):\n",
    "        if tokens[-1][0] in [map]:\n",
    "            if kwargs and not args: args = [kwargs]\n",
    "            return DefaultComposer.call(tokens, cls.item(args[0]))\n",
    "        return DefaultComposer.call(tokens, *args, **kwargs)"
   ]
  },
  {
   "cell_type": "code",
   "execution_count": 55,
   "metadata": {
    "collapsed": false
   },
   "outputs": [],
   "source": [
    "def juxtapose(func, x): \n",
    "    return juxt(*func)(x)\n",
    "\n",
    "class _X(Chain):\n",
    "    \"\"\"Shorthand for `Chain` where `_X.f is Chain.value`.  Typographically dense.\n",
    "    \"\"\"\n",
    "    _composer = SugarComposer\n",
    "    \n",
    "    @property\n",
    "    def f(self)->Callable:\n",
    "        return self.value\n",
    "    \n",
    "    def __or__(self, f):\n",
    "        \"\"\"Extend the current chain.\n",
    "        \"\"\"\n",
    "        return self.copy()[f]\n",
    "\n",
    "    def __gt__(self, f)->Any:\n",
    "        \"\"\"Extend and evaluate the chain.\n",
    "        \"\"\"\n",
    "        if f is compose: \n",
    "            return self.compose\n",
    "        return self.copy()[f].value()\n",
    "    \n",
    "    def __mul__(self, f):\n",
    "        \"\"\"Apply a map function.\n",
    "        \"\"\"\n",
    "        return self.copy().map(f)\n",
    "        \n",
    "    def __add__(self, f):\n",
    "        \"\"\"Filter values that are true.\n",
    "        \"\"\"\n",
    "        return self.copy().filter(self._composer.item(f))\n",
    "    \n",
    "    @property\n",
    "    def end(self): self.value"
   ]
  },
  {
   "cell_type": "code",
   "execution_count": 56,
   "metadata": {
    "collapsed": false
   },
   "outputs": [],
   "source": [
    "def getitem(item, obj): \n",
    "    return obj[item]\n",
    "\n",
    "def getattr_(item, obj):\n",
    "    return getattr(obj, item)\n",
    "\n",
    "class ThisComposer(DefaultComposer): \n",
    "    @staticmethod\n",
    "    def item(item):\n",
    "        return [[getitem, [item], {}]]\n",
    "    \n",
    "    @staticmethod\n",
    "    def attr(item):\n",
    "        return [[getattr_, [item], {}]]\n",
    "    \n",
    "    @staticmethod\n",
    "    def call(tokens, *args, **kwargs):\n",
    "        \"\"\"Add args and kwargs to the tokens.\n",
    "        \"\"\"\n",
    "        tokens.append([evaluate, [args, kwargs], {}])\n",
    "        return tokens"
   ]
  },
  {
   "cell_type": "code",
   "execution_count": 54,
   "metadata": {
    "collapsed": false
   },
   "outputs": [],
   "source": [
    "class this(Chain): \n",
    "    _composer = ThisComposer\n",
    "    \n",
    "    @property\n",
    "    def chain(self, chain_type=_X): return chain_type(self.value())\n",
    "    \n",
    "    @property\n",
    "    def f(self): return self.value"
   ]
  },
  {
   "cell_type": "markdown",
   "metadata": {},
   "source": [
    "# About the design\n",
    "\n",
    "The goal of `Chain` is rapidly prototype code using powerful modules in the \n",
    "Python ecosystem.  More specifically, this was designed with the intent of \n",
    "creating data rich web applications that may work client or server side.\n",
    "\n",
    "Applications are complex.  Fortunately, `conda` and `pip` provide lower \n",
    "barriers to entry for building complex systems.  With this access, it is \n",
    "possible to write functional code that spans loading through an ETL pipeline\n",
    "to an application.  This workflow was inspired greatly by `toolz` and chainable `d3`\n",
    "expressions.  Choosing these opinions greatly minimizes the need for naming.\n",
    "\n",
    "## Naming\n",
    "\n",
    "Naming takes time and have the potential to confuse others.  The python ecosystem \n",
    "provides a broad corpus to load, transform, model, and visualize data with simple\n",
    "methods to deploy them into applications or scale to other day.\n",
    "\n",
    "I don't want to name stuff.  Also, I want to write code quicker.  Using existing namespaces\n",
    "enhances code prediction while developing in the notebook.\n",
    "\n",
    "## Intent\n",
    "\n",
    "* Design a lightweight class that offers a typographically and functionally compact python syntax.\n",
    "* Maximize screen real estate for impact.  This optimizes copy and paste ability.\n",
    "* Lazy.  Most of this comes from toolz.\n",
    "* Reusability.\n",
    "* Don't create a new grammar.\n",
    "\n",
    "## Advantages\n",
    "\n",
    "* Less decisions to make, better code prediction.\n",
    "* Complex operations can be isolated to a notebook cell\n",
    "* Enhanced copy and pasting abilities.\n",
    "\n",
    "## History\n",
    "\n",
    "1. Design an API that mimics [`chain` from `underscorejs`](http://underscorejs.org/#chain).  This \n",
    "includes the `value` function that evaluates that `chain`.  `Chain` could only use `builtins` and `toolz.curried`.\n",
    "\n",
    "    ```python\n",
    "    Chain([1,2,3]).map(lambda x: x**2).list()\n",
    "    ```\n",
    "    \n",
    "    `value` can take args and kwargs to apply a different context to the functions.\n",
    "\n",
    "    ```python\n",
    "    c = Chain([1,2,3]).map(lambda x: x**2).list()\n",
    "    c.value([3,5,7])\n",
    "    ```\n",
    "\n",
    "2. Extend the API to functions in the global namespace using the `__getitem__` method.  Chaining functions\n",
    "using the attribute created a nice typographic layout.\n",
    "\n",
    "    ```python\n",
    "    Chain([1,2,3])[\n",
    "        map(lambda x: x**2)\n",
    "    ].list()\n",
    "    ```\n",
    "    \n",
    "3. Add syntactic sugar to extend and evaluate a chain.  \n",
    "\n",
    "    __extend a chain__ `Chain([1,2,3]) | map(lambda x: x**2) | list`\n",
    "    \n",
    "    __evaluate a chain__ `Chain([1,2,3]) | map(lambda x: x**2) > list`"
   ]
  },
  {
   "cell_type": "code",
   "execution_count": null,
   "metadata": {
    "collapsed": true
   },
   "outputs": [],
   "source": []
  }
 ],
 "metadata": {
  "anaconda-cloud": {},
  "kernelspec": {
   "display_name": "Python [Root]",
   "language": "python",
   "name": "Python [Root]"
  },
  "language_info": {
   "codemirror_mode": {
    "name": "ipython",
    "version": 3
   },
   "file_extension": ".py",
   "mimetype": "text/x-python",
   "name": "python",
   "nbconvert_exporter": "python",
   "pygments_lexer": "ipython3",
   "version": "3.5.2"
  }
 },
 "nbformat": 4,
 "nbformat_minor": 0
}
