{
 "cells": [
  {
   "cell_type": "code",
   "execution_count": 1,
   "metadata": {
    "collapsed": true
   },
   "outputs": [],
   "source": [
    "from collections import OrderedDict\n",
    "from toolz.curried import flip, identity, juxt, map, partial, pipe, valmap\n",
    "from types import LambdaType\n",
    "from typing import Iterable, Any\n",
    "\n",
    "__all__ = ['Dispatch', 'DictCallable', 'TupleCallable', 'ListCallable', 'SetCallable']"
   ]
  },
  {
   "cell_type": "code",
   "execution_count": 2,
   "metadata": {
    "collapsed": false
   },
   "outputs": [],
   "source": [
    "class Dispatch(OrderedDict):\n",
    "    \"\"\"An object that provides multiple dispatch when it is called.\n",
    "    \"\"\"\n",
    "    def __init__(self, args=[], catch=None):\n",
    "        super().__init__(args)\n",
    "        if catch:\n",
    "            self[Any] = catch\n",
    "    def __call__(self, *args, **kwargs):\n",
    "        for types, fn in self.items():\n",
    "            if not isinstance(types, Iterable):\n",
    "                types = tuple([types])\n",
    "            if len(args) == len(types):\n",
    "                for arg, type_ in zip(args, types):\n",
    "                    if type_ != Any and not isinstance(arg, type_): break\n",
    "                else:\n",
    "                    return fn(*args, **kwargs)\n",
    "        raise TypeError(\"Type(s) not found\")"
   ]
  },
  {
   "cell_type": "code",
   "execution_count": 3,
   "metadata": {
    "collapsed": false
   },
   "outputs": [],
   "source": [
    "class Condictional(OrderedDict):\n",
    "    \"\"\"An object that provides multiple dispatch when it is called.\n",
    "    \"\"\"\n",
    "    def __init__(self, args=[], catch=identity):\n",
    "        super().__init__(args)\n",
    "        self[lambda *args, **kwargs: True] = catch\n",
    "        \n",
    "    def __call__(self, *args, **kwargs):\n",
    "        for condition, fn in self.items():\n",
    "            if condition(*args, **kwargs):\n",
    "                return fn(*args, **kwargs)"
   ]
  },
  {
   "cell_type": "code",
   "execution_count": 4,
   "metadata": {
    "collapsed": true
   },
   "outputs": [],
   "source": [
    "class DictCallable(dict):\n",
    "    def __call__(self, *args, **kwargs):\n",
    "        return valmap(\n",
    "            lambda x: x(*args, **kwargs), self\n",
    "        )"
   ]
  },
  {
   "cell_type": "code",
   "execution_count": 5,
   "metadata": {
    "collapsed": true
   },
   "outputs": [],
   "source": [
    "class ListCallable(list):\n",
    "    def __call__(self, *args, **kwargs):\n",
    "        return list(juxt(*self)(\n",
    "            *args, **kwargs\n",
    "        ))"
   ]
  },
  {
   "cell_type": "code",
   "execution_count": 6,
   "metadata": {
    "collapsed": true
   },
   "outputs": [],
   "source": [
    "class SetCallable(set):\n",
    "    def __call__(self, *args, **kwargs):\n",
    "        if pipe(self, map(\n",
    "                partial(flip(isinstance), LambdaType)\n",
    "            ), any):\n",
    "            raise TypeError(\"Cannot interpolate a LambdaType.\")\n",
    "\n",
    "        return pipe(\n",
    "            zip(\n",
    "                self, list(map(lambda x: x(*args, **kwargs), self))\n",
    "            ), list, dict\n",
    "        )\n",
    "        "
   ]
  },
  {
   "cell_type": "code",
   "execution_count": 7,
   "metadata": {
    "collapsed": true
   },
   "outputs": [],
   "source": [
    "class TupleCallable(tuple):\n",
    "    def __call__(self, *args, **kwargs):\n",
    "        return juxt(*self)(\n",
    "            *args, **kwargs\n",
    "        )"
   ]
  }
 ],
 "metadata": {
  "anaconda-cloud": {
   "environment": null,
   "summary": "Iterable functions",
   "url": "https://anaconda.org/tonyfast/callables"
  },
  "kernelspec": {
   "display_name": "Python [Root]",
   "language": "python",
   "name": "Python [Root]"
  },
  "language_info": {
   "codemirror_mode": {
    "name": "ipython",
    "version": 3
   },
   "file_extension": ".py",
   "mimetype": "text/x-python",
   "name": "python",
   "nbconvert_exporter": "python",
   "pygments_lexer": "ipython3",
   "version": "3.5.2"
  }
 },
 "nbformat": 4,
 "nbformat_minor": 0
}
