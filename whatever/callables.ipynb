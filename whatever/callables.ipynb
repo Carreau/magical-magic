{
 "cells": [
  {
   "cell_type": "code",
   "execution_count": 26,
   "metadata": {
    "collapsed": false
   },
   "outputs": [],
   "source": [
    "from collections import OrderedDict\n",
    "from toolz.curried import flip, juxt, map, partial, pipe, valmap\n",
    "from types import LambdaType\n",
    "from typing import Iterable, Any\n",
    "\n",
    "__all__ = ['Dispatch', 'DictCallable', 'TupleCallable', 'ListCallable', 'SetCallable']\n",
    "\n",
    "class Dispatch(OrderedDict):\n",
    "    \"\"\"An object that provides multiple dispatch when it is called.\n",
    "    \"\"\"\n",
    "    def __call__(self, *args, **kwargs):\n",
    "        for types, fn in self.items():\n",
    "            if not isinstance(types, Iterable):\n",
    "                types = tuple([types])\n",
    "            if len(args) == len(types):\n",
    "                for arg, type_ in zip(args, types):\n",
    "                    if type_ != Any and not isinstance(arg, type_): break\n",
    "                else:\n",
    "                    print(fn)\n",
    "                    return fn(*args)\n",
    "        raise TypeError(\"Type(s) not found\")"
   ]
  },
  {
   "cell_type": "code",
   "execution_count": 29,
   "metadata": {
    "collapsed": true
   },
   "outputs": [],
   "source": [
    "class DictCallable(dict):\n",
    "    def __call__(self, *args, **kwargs):\n",
    "        return valmap(\n",
    "            lambda x: x(*args, **kwargs), self\n",
    "        )"
   ]
  },
  {
   "cell_type": "code",
   "execution_count": 28,
   "metadata": {
    "collapsed": true
   },
   "outputs": [],
   "source": [
    "class ListCallable(list):\n",
    "    def __call__(self, *args, **kwargs):\n",
    "        return list(juxt(*self)(\n",
    "            *args, **kwargs\n",
    "        ))"
   ]
  },
  {
   "cell_type": "code",
   "execution_count": 30,
   "metadata": {
    "collapsed": true
   },
   "outputs": [],
   "source": [
    "class SetCallable(set):\n",
    "    def __call__(self, *args, **kwargs):\n",
    "        if pipe(self, map(\n",
    "                partial(flip(isinstance), LambdaType)\n",
    "            ), any):\n",
    "            raise TypeError(\"Cannot interpolate a LambdaType.\")\n",
    "\n",
    "        return pipe(\n",
    "            zip(\n",
    "                self, list(map(lambda x: x(*args, **kwargs), self))\n",
    "            ), list, dict\n",
    "        )\n",
    "        "
   ]
  },
  {
   "cell_type": "code",
   "execution_count": 27,
   "metadata": {
    "collapsed": true
   },
   "outputs": [],
   "source": [
    "class TupleCallable(tuple):\n",
    "    def __call__(self, *args, **kwargs):\n",
    "        return juxt(*self)(\n",
    "            *args, **kwargs\n",
    "        )"
   ]
  }
 ],
 "metadata": {
  "anaconda-cloud": {},
  "kernelspec": {
   "display_name": "Python [Root]",
   "language": "python",
   "name": "Python [Root]"
  },
  "language_info": {
   "codemirror_mode": {
    "name": "ipython",
    "version": 3
   },
   "file_extension": ".py",
   "mimetype": "text/x-python",
   "name": "python",
   "nbconvert_exporter": "python",
   "pygments_lexer": "ipython3",
   "version": "3.5.2"
  }
 },
 "nbformat": 4,
 "nbformat_minor": 0
}
