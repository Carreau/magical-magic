{
 "cells": [
  {
   "cell_type": "markdown",
   "metadata": {},
   "source": [
    "# `whatever-forever`\n",
    "\n",
    "For developing dense ideas in the notebook.\n",
    "\n",
    "* Easy to define cell magics.\n",
    "* Syntatic sugar for composing and evaluating complex functional operations.\n",
    "\n",
    "`pip install whatever-forever`"
   ]
  },
  {
   "cell_type": "markdown",
   "metadata": {},
   "source": [
    "## `Chain`\n",
    "\n",
    "A chain is a typographically compact manner of creating complicated\n",
    "expressions in Pythonic syntax.\n",
    "\n",
    "### Chainable Values\n",
    "\n",
    "```python\n",
    "from whatever import *\n",
    "some_expr = Chain([1,2,3]).reversed().map(lambda x: x**2).list()\n",
    "some_expr.value()\n",
    "some_expr.value([3,5,8])\n",
    "```\n",
    "\n",
    "### Syntactic Sugar\n",
    "\n",
    "`_X` provides syntactic sugar for composing expressions.\n",
    "\n",
    "```python\n",
    "\n",
    "some_expr = _X([1,2,3]) | reversed | map(lambda x: x**2) | list\n",
    "some_value = _X([1,2,3]) | reversed | map(lambda x: x**2) > list\n",
    "```"
   ]
  },
  {
   "cell_type": "markdown",
   "metadata": {},
   "source": [
    "## Development\n",
    "\n",
    "Running test and the docs server.\n",
    "\n",
    "```\n",
    "watchmedo tricks tricks.yaml\n",
    "jekyll serve docs -wit\n",
    "```"
   ]
  },
  {
   "cell_type": "markdown",
   "metadata": {},
   "source": [
    "## `Whatever`\n",
    "\n",
    "Easy to construct cell magics\n",
    "\n",
    "### Cell Magics\n",
    "\n",
    "Create a `jinja` to Markdown magic.\n",
    "\n",
    "```python\n",
    "from jinja2 import Template\n",
    "@magical('jinja2', lang='jinja2', display='Markdown')\n",
    "def render_jinja_with_globals(cell):\n",
    "    return Template(cell).render(**globals())\n",
    "```"
   ]
  },
  {
   "cell_type": "markdown",
   "metadata": {},
   "source": [
    "## License\n",
    "`whatever-forever` is released as free software under the [BSD 3-Clause license](https://github.com/tonyfast/whatever-forever/blob/master/LICENSE)."
   ]
  },
  {
   "cell_type": "code",
   "execution_count": null,
   "metadata": {
    "collapsed": false
   },
   "outputs": [],
   "source": [
    "__version_info__ = (0, 0, 12)\n",
    "__version__ = '.'.join(map(str, __version_info__))\n",
    "\n",
    "from .chain import Chain, this, _X\n",
    "from .magic import magical\n",
    "from .dispatch import Dispatch\n",
    "from toolz.curried import *\n",
    "import toolz.curried\n",
    "\n",
    "__all__ = [\n",
    "    'magical', 'Chain', 'this', 'Dispatch', '_X', *pipe(\n",
    "        toolz.curried, dir, filter(\n",
    "            complement(lambda s: s.startswith('_'))\n",
    "        ), list\n",
    "    )\n",
    "]"
   ]
  }
 ],
 "metadata": {
  "anaconda-cloud": {},
  "kernelspec": {
   "display_name": "Python [Root]",
   "language": "python",
   "name": "Python [Root]"
  },
  "language_info": {
   "codemirror_mode": {
    "name": "ipython",
    "version": 3
   },
   "file_extension": ".py",
   "mimetype": "text/x-python",
   "name": "python",
   "nbconvert_exporter": "python",
   "pygments_lexer": "ipython3",
   "version": "3.5.2"
  }
 },
 "nbformat": 4,
 "nbformat_minor": 0
}
