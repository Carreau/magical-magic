{
 "cells": [
  {
   "cell_type": "code",
   "execution_count": null,
   "metadata": {
    "collapsed": false
   },
   "outputs": [],
   "source": [
    "__version_info__ = (0, 0, 14)\n",
    "__version__ = '.'.join(map(str, __version_info__))\n",
    "\n",
    "from .chain import Chain, this, _X\n",
    "from .magic import magical\n",
    "from .callables import Dispatch\n",
    "from toolz.curried import *\n",
    "import toolz.curried\n",
    "\n",
    "__all__ = [\n",
    "    'magical', 'Chain', 'this', 'Dispatch', '_X', *pipe(\n",
    "        toolz.curried, dir, filter(\n",
    "            complement(lambda s: s.startswith('_'))\n",
    "        ), list\n",
    "    )\n",
    "]"
   ]
  }
 ],
 "metadata": {
  "anaconda-cloud": {},
  "kernelspec": {
   "display_name": "Python [Root]",
   "language": "python",
   "name": "Python [Root]"
  },
  "language_info": {
   "codemirror_mode": {
    "name": "ipython",
    "version": 3
   },
   "file_extension": ".py",
   "mimetype": "text/x-python",
   "name": "python",
   "nbconvert_exporter": "python",
   "pygments_lexer": "ipython3",
   "version": "3.5.2"
  }
 },
 "nbformat": 4,
 "nbformat_minor": 0
}
