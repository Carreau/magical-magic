{
 "cells": [
  {
   "cell_type": "code",
   "execution_count": 1,
   "metadata": {
    "collapsed": true
   },
   "outputs": [],
   "source": [
    "from IPython import display, get_ipython\n",
    "from IPython.core import magic_arguments\n",
    "from typing import Callable\n",
    "from toolz.curried import curry, partial, pipe, reduce \n",
    "\n",
    "__all__ = ['magical']"
   ]
  },
  {
   "cell_type": "markdown",
   "metadata": {},
   "source": [
    "> Evaluate arbitrary variables that can be added to the global context by defining a name."
   ]
  },
  {
   "cell_type": "code",
   "execution_count": 9,
   "metadata": {
    "collapsed": false
   },
   "outputs": [],
   "source": [
    "@magic_arguments.magic_arguments()\n",
    "@magic_arguments.argument(\n",
    "    \"name\",\n",
    "    default='markdown',\n",
    "    nargs=\"?\",\n",
    "    help=\"\"\"Name of local variable to set to parsed value\"\"\",\n",
    ")\n",
    "@magic_arguments.argument(\n",
    "    \"-d\",\n",
    "    \"--display\",\n",
    "    default='Markdown',\n",
    "    nargs=\"?\",\n",
    "    help=\"\"\"An IPython.display method.\"\"\"\n",
    ")\n",
    "def wraps_magic(f, line, cell, **kwargs):\n",
    "#     def _preprocess_line(line):    \n",
    "#         \"\"\"I don't understand how I would use this yet.\"\"\"\n",
    "#         if 'assign' in kwargs:\n",
    "#             if kwargs['assign']:\n",
    "#                 line, cell = line.strip().split(' ',1)\n",
    "#         else:\n",
    "#             line, cell = ['', line]\n",
    "#         return line, cell\n",
    "\n",
    "#     if not cell:\n",
    "#         line, cell = _preprocess_line(line)\n",
    "\n",
    "    args = magic_arguments.parse_argstring(wraps_magic, line.strip())\n",
    "\n",
    "    retval = f(cell)\n",
    "\n",
    "    if args.name:\n",
    "        if '.' in args.name or '[' in args.name:\n",
    "            path = args.name.split('.')\n",
    "            var = get_ipython().user_ns[path[0]]\n",
    "            setattr( reduce(\n",
    "                lambda x, y: getattr(x,y) if hasattr(x, y) else x[y],\n",
    "                path[1:-1], \n",
    "                var\n",
    "            ), path[-1], retval)\n",
    "        else:   \n",
    "            get_ipython().user_ns[args.name] = retval\n",
    "\n",
    "\n",
    "    if args.display:\n",
    "        disp = kwargs['display'] if 'display' in kwargs else args.display\n",
    "        if isinstance(disp, str):\n",
    "            return display.display(getattr(display, disp)(retval))\n",
    "        elif isinstance(disp, Callable):\n",
    "            return disp(retval)\n",
    "\n",
    "@curry\n",
    "def magical(name, method, lang=None, **kwargs):\n",
    "    if lang:\n",
    "        # Syntax highlighting\n",
    "        pipe(\"\"\"require([\n",
    "                    \"notebook/js/codecell\",\n",
    "                    \"codemirror/mode/{0}/{0}\"\n",
    "                ],\n",
    "                function(cc){{\n",
    "                    cc.CodeCell.options_default.highlight_modes.magic_{1} = {{\n",
    "                        reg: [\"^%%{1}\"]\n",
    "                    }};\n",
    "                }}\n",
    "            );\n",
    "            \"\"\".format(lang, name), \n",
    "             display.Javascript, display.display,\n",
    "        )\n",
    "    wrapped_method = partial(wraps_magic, method, **kwargs)\n",
    "    get_ipython().register_magic_function(\n",
    "        wrapped_method,          \n",
    "        magic_kind='cell', magic_name=name\n",
    "    )\n",
    "    return wrapped_method"
   ]
  }
 ],
 "metadata": {
  "anaconda-cloud": {},
  "kernelspec": {
   "display_name": "Python [Root]",
   "language": "python",
   "name": "Python [Root]"
  },
  "language_info": {
   "codemirror_mode": {
    "name": "ipython",
    "version": 3
   },
   "file_extension": ".py",
   "mimetype": "text/x-python",
   "name": "python",
   "nbconvert_exporter": "python",
   "pygments_lexer": "ipython3",
   "version": "3.5.2"
  }
 },
 "nbformat": 4,
 "nbformat_minor": 0
}
