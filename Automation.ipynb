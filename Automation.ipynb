{
 "cells": [
  {
   "cell_type": "markdown",
   "metadata": {},
   "source": [
    "## Automation\n",
    "Nothing too fancy here."
   ]
  },
  {
   "cell_type": "code",
   "execution_count": 1,
   "metadata": {
    "collapsed": false
   },
   "outputs": [
    {
     "name": "stdout",
     "output_type": "stream",
     "text": [
      "[NbConvertApp] Converting notebook whatever4e.ipynb to python\n",
      "[NbConvertApp] Writing 5765 bytes to whatever4e.py\n"
     ]
    }
   ],
   "source": [
    "!jupyter nbconvert --to python whatever4e.ipynb"
   ]
  },
  {
   "cell_type": "code",
   "execution_count": 2,
   "metadata": {
    "collapsed": false
   },
   "outputs": [
    {
     "name": "stdout",
     "output_type": "stream",
     "text": [
      "Overwriting setup.py\n"
     ]
    }
   ],
   "source": [
    "%%file setup.py\n",
    "import os\n",
    "from setuptools import setup\n",
    "\n",
    "\n",
    "def read(fname):\n",
    "    \"\"\"\n",
    "    Utility function to read the README file.\n",
    "    Used for the long_description.  It's nice, because now 1) we have a top\n",
    "    level README file and 2) it's easier to type in the README file than to put\n",
    "    a raw string in below ...\n",
    "    \"\"\"\n",
    "    with open(os.path.join(os.path.dirname(__file__), fname)) as f:\n",
    "        return f.read()\n",
    "\n",
    "\n",
    "setup(\n",
    "    name=\"whatever4e\",\n",
    "    version=\"0.1.0\",\n",
    "    author=\"Tony Fast\",\n",
    "    author_email=\"tony.fast@gmail.com\",\n",
    "    description=\"prototype whatever in the Jupyter notebook\",\n",
    "    license=\"BSD\",\n",
    "    keywords=\"IPython Magic Jupyter\",\n",
    "    url=\"http://github.com/tonyfast/whatever-forever\",\n",
    "    py_modules=[\"toolz\"],\n",
    "    long_description=read(\"README.rst\"),\n",
    "    classifiers=[\n",
    "        \"Topic :: Utilities\",\n",
    "        \"Framework :: IPython\",\n",
    "        \"Natural Language :: English\",\n",
    "        \"Programming Language :: Python\",\n",
    "        \"Intended Audience :: Developers\",\n",
    "        \"Development Status :: 3 - Alpha\",\n",
    "        \"Operating System :: OS Independent\",\n",
    "        \"Programming Language :: Python :: 3\",\n",
    "        \"License :: OSI Approved :: BSD License\",\n",
    "        \"Topic :: Software Development :: Testing\",\n",
    "    ],\n",
    "    install_requires=[\n",
    "        \"toolz\",\n",
    "    ]\n",
    ")\n"
   ]
  },
  {
   "cell_type": "markdown",
   "metadata": {},
   "source": [
    "### Run tests"
   ]
  },
  {
   "cell_type": "code",
   "execution_count": 3,
   "metadata": {
    "collapsed": false
   },
   "outputs": [],
   "source": [
    "# !python setup.py test"
   ]
  },
  {
   "cell_type": "markdown",
   "metadata": {},
   "source": [
    "### Check code style"
   ]
  },
  {
   "cell_type": "code",
   "execution_count": 5,
   "metadata": {
    "collapsed": false
   },
   "outputs": [
    {
     "name": "stdout",
     "output_type": "stream",
     "text": [
      "./setup.py:42:2: W292 no newline at end of file\r\n",
      "./whatever4e.py:15:1: F403 'from toolz.curried import *' used; unable to detect undefined names\r\n",
      "./whatever4e.py:28:2: W291 trailing whitespace\r\n",
      "./whatever4e.py:29:80: E501 line too long (112 > 79 characters)\r\n",
      "./whatever4e.py:30:2: W291 trailing whitespace\r\n",
      "./whatever4e.py:31:2: W291 trailing whitespace\r\n",
      "./whatever4e.py:33:2: W291 trailing whitespace\r\n",
      "./whatever4e.py:34:80: E501 line too long (190 > 79 characters)\r\n",
      "./whatever4e.py:37:2: W291 trailing whitespace\r\n",
      "./whatever4e.py:39:2: W291 trailing whitespace\r\n",
      "./whatever4e.py:41:2: W291 trailing whitespace\r\n",
      "./whatever4e.py:43:2: W291 trailing whitespace\r\n",
      "./whatever4e.py:60:80: E501 line too long (82 > 79 characters)\r\n",
      "./whatever4e.py:65:40: W291 trailing whitespace\r\n",
      "./whatever4e.py:67:13: E124 closing bracket does not match visual indentation\r\n",
      "./whatever4e.py:72:1: W293 blank line contains whitespace\r\n",
      "./whatever4e.py:76:1: W293 blank line contains whitespace\r\n",
      "./whatever4e.py:81:1: W293 blank line contains whitespace\r\n",
      "./whatever4e.py:90:1: W293 blank line contains whitespace\r\n",
      "./whatever4e.py:91:5: E303 too many blank lines (2)\r\n",
      "./whatever4e.py:117:1: W293 blank line contains whitespace\r\n",
      "./whatever4e.py:119:1: W293 blank line contains whitespace\r\n",
      "./whatever4e.py:122:42: W291 trailing whitespace\r\n",
      "./whatever4e.py:123:1: W293 blank line contains whitespace\r\n",
      "./whatever4e.py:126:1: W293 blank line contains whitespace\r\n",
      "./whatever4e.py:131:2: W291 trailing whitespace\r\n",
      "./whatever4e.py:132:80: E501 line too long (113 > 79 characters)\r\n",
      "./whatever4e.py:132:114: W291 trailing whitespace\r\n",
      "./whatever4e.py:133:80: E501 line too long (121 > 79 characters)\r\n",
      "./whatever4e.py:134:2: W291 trailing whitespace\r\n",
      "./whatever4e.py:135:80: E501 line too long (113 > 79 characters)\r\n",
      "./whatever4e.py:136:80: E501 line too long (118 > 79 characters)\r\n",
      "./whatever4e.py:146:1: E302 expected 2 blank lines, found 0\r\n",
      "./whatever4e.py:151:1: W293 blank line contains whitespace\r\n",
      "./whatever4e.py:155:22: W291 trailing whitespace\r\n",
      "./whatever4e.py:160:19: W291 trailing whitespace\r\n",
      "./whatever4e.py:162:1: W293 blank line contains whitespace\r\n",
      "./whatever4e.py:168:80: E501 line too long (80 > 79 characters)\r\n",
      "./whatever4e.py:173:1: W293 blank line contains whitespace\r\n",
      "./whatever4e.py:177:1: W293 blank line contains whitespace\r\n",
      "./whatever4e.py:181:1: W293 blank line contains whitespace\r\n",
      "./whatever4e.py:186:1: W293 blank line contains whitespace\r\n",
      "./whatever4e.py:200:1: W293 blank line contains whitespace\r\n",
      "./whatever4e.py:212:1: E303 too many blank lines (4)\r\n",
      "./whatever4e.py:215:1: W391 blank line at end of file\r\n"
     ]
    }
   ],
   "source": [
    "!flake8"
   ]
  },
  {
   "cell_type": "markdown",
   "metadata": {},
   "source": [
    "### Generate `README.md` from `README.ipynb`"
   ]
  },
  {
   "cell_type": "code",
   "execution_count": 6,
   "metadata": {
    "collapsed": false
   },
   "outputs": [
    {
     "name": "stdout",
     "output_type": "stream",
     "text": [
      "[NbConvertApp] Converting notebook README.ipynb to markdown\n",
      "[NbConvertApp] Writing 2069 bytes to README.md\n"
     ]
    }
   ],
   "source": [
    "!jupyter nbconvert README.ipynb --to=markdown"
   ]
  },
  {
   "cell_type": "markdown",
   "metadata": {},
   "source": [
    "## Test Release for PyPi"
   ]
  },
  {
   "cell_type": "code",
   "execution_count": 7,
   "metadata": {
    "collapsed": false,
    "scrolled": false
   },
   "outputs": [
    {
     "name": "stdout",
     "output_type": "stream",
     "text": [
      "running register\n",
      "running egg_info\n",
      "creating whatever4e.egg-info\n",
      "writing dependency_links to whatever4e.egg-info/dependency_links.txt\n",
      "writing whatever4e.egg-info/PKG-INFO\n",
      "writing requirements to whatever4e.egg-info/requires.txt\n",
      "writing top-level names to whatever4e.egg-info/top_level.txt\n",
      "writing manifest file 'whatever4e.egg-info/SOURCES.txt'\n",
      "file toolz.py (for module toolz) not found\n",
      "reading manifest file 'whatever4e.egg-info/SOURCES.txt'\n",
      "reading manifest template 'MANIFEST.in'\n",
      "warning: no files found matching '*.ipynb' under directory 'tests/'\n",
      "writing manifest file 'whatever4e.egg-info/SOURCES.txt'\n",
      "running check\n",
      "Registering whatever4e to https://testpypi.python.org/pypi\n",
      "Server response (200): OK\n",
      "running sdist\n",
      "running egg_info\n",
      "writing dependency_links to whatever4e.egg-info/dependency_links.txt\n",
      "writing top-level names to whatever4e.egg-info/top_level.txt\n",
      "writing requirements to whatever4e.egg-info/requires.txt\n",
      "writing whatever4e.egg-info/PKG-INFO\n",
      "file toolz.py (for module toolz) not found\n",
      "reading manifest file 'whatever4e.egg-info/SOURCES.txt'\n",
      "reading manifest template 'MANIFEST.in'\n",
      "warning: no files found matching '*.ipynb' under directory 'tests/'\n",
      "writing manifest file 'whatever4e.egg-info/SOURCES.txt'\n",
      "running check\n",
      "creating whatever4e-0.1.0\n",
      "creating whatever4e-0.1.0/whatever4e.egg-info\n",
      "making hard links in whatever4e-0.1.0...\n",
      "hard linking Automation.ipynb -> whatever4e-0.1.0\n",
      "hard linking LICENSE -> whatever4e-0.1.0\n",
      "hard linking MANIFEST.in -> whatever4e-0.1.0\n",
      "hard linking README.ipynb -> whatever4e-0.1.0\n",
      "hard linking README.md -> whatever4e-0.1.0\n",
      "hard linking README.rst -> whatever4e-0.1.0\n",
      "hard linking setup.cfg -> whatever4e-0.1.0\n",
      "hard linking setup.py -> whatever4e-0.1.0\n",
      "hard linking whatever4e.ipynb -> whatever4e-0.1.0\n",
      "hard linking whatever4e.egg-info/PKG-INFO -> whatever4e-0.1.0/whatever4e.egg-info\n",
      "hard linking whatever4e.egg-info/SOURCES.txt -> whatever4e-0.1.0/whatever4e.egg-info\n",
      "hard linking whatever4e.egg-info/dependency_links.txt -> whatever4e-0.1.0/whatever4e.egg-info\n",
      "hard linking whatever4e.egg-info/requires.txt -> whatever4e-0.1.0/whatever4e.egg-info\n",
      "hard linking whatever4e.egg-info/top_level.txt -> whatever4e-0.1.0/whatever4e.egg-info\n",
      "copying setup.cfg -> whatever4e-0.1.0\n",
      "Writing whatever4e-0.1.0/setup.cfg\n",
      "creating dist\n",
      "Creating tar archive\n",
      "removing 'whatever4e-0.1.0' (and everything under it)\n",
      "running bdist_wheel\n",
      "running build\n",
      "running build_py\n",
      "file toolz.py (for module toolz) not found\n",
      "file toolz.py (for module toolz) not found\n",
      "installing to build/bdist.macosx-10.5-x86_64/wheel\n",
      "running install\n",
      "running install_lib\n",
      "warning: install_lib: 'build/lib' does not exist -- no Python modules to install\n",
      "\n",
      "running install_egg_info\n",
      "running egg_info\n",
      "writing requirements to whatever4e.egg-info/requires.txt\n",
      "writing whatever4e.egg-info/PKG-INFO\n",
      "writing top-level names to whatever4e.egg-info/top_level.txt\n",
      "writing dependency_links to whatever4e.egg-info/dependency_links.txt\n",
      "file toolz.py (for module toolz) not found\n",
      "reading manifest file 'whatever4e.egg-info/SOURCES.txt'\n",
      "reading manifest template 'MANIFEST.in'\n",
      "warning: no files found matching '*.ipynb' under directory 'tests/'\n",
      "writing manifest file 'whatever4e.egg-info/SOURCES.txt'\n",
      "Copying whatever4e.egg-info to build/bdist.macosx-10.5-x86_64/wheel/whatever4e-0.1.0-py3.5.egg-info\n",
      "running install_scripts\n",
      "creating build/bdist.macosx-10.5-x86_64/wheel/whatever4e-0.1.0.dist-info/WHEEL\n",
      "running sdist\n",
      "running egg_info\n",
      "writing dependency_links to whatever4e.egg-info/dependency_links.txt\n",
      "writing top-level names to whatever4e.egg-info/top_level.txt\n",
      "writing whatever4e.egg-info/PKG-INFO\n",
      "writing requirements to whatever4e.egg-info/requires.txt\n",
      "file toolz.py (for module toolz) not found\n",
      "reading manifest file 'whatever4e.egg-info/SOURCES.txt'\n",
      "reading manifest template 'MANIFEST.in'\n",
      "warning: no files found matching '*.ipynb' under directory 'tests/'\n",
      "writing manifest file 'whatever4e.egg-info/SOURCES.txt'\n",
      "running check\n",
      "creating whatever4e-0.1.0\n",
      "creating whatever4e-0.1.0/whatever4e.egg-info\n",
      "making hard links in whatever4e-0.1.0...\n",
      "hard linking Automation.ipynb -> whatever4e-0.1.0\n",
      "hard linking LICENSE -> whatever4e-0.1.0\n",
      "hard linking MANIFEST.in -> whatever4e-0.1.0\n",
      "hard linking README.ipynb -> whatever4e-0.1.0\n",
      "hard linking README.md -> whatever4e-0.1.0\n",
      "hard linking README.rst -> whatever4e-0.1.0\n",
      "hard linking setup.cfg -> whatever4e-0.1.0\n",
      "hard linking setup.py -> whatever4e-0.1.0\n",
      "hard linking whatever4e.ipynb -> whatever4e-0.1.0\n",
      "hard linking whatever4e.egg-info/PKG-INFO -> whatever4e-0.1.0/whatever4e.egg-info\n",
      "hard linking whatever4e.egg-info/SOURCES.txt -> whatever4e-0.1.0/whatever4e.egg-info\n",
      "hard linking whatever4e.egg-info/dependency_links.txt -> whatever4e-0.1.0/whatever4e.egg-info\n",
      "hard linking whatever4e.egg-info/requires.txt -> whatever4e-0.1.0/whatever4e.egg-info\n",
      "hard linking whatever4e.egg-info/top_level.txt -> whatever4e-0.1.0/whatever4e.egg-info\n",
      "copying setup.cfg -> whatever4e-0.1.0\n",
      "Writing whatever4e-0.1.0/setup.cfg\n",
      "Creating tar archive\n",
      "removing 'whatever4e-0.1.0' (and everything under it)\n",
      "running upload\n",
      "Submitting dist/whatever4e-0.1.0.tar.gz to https://testpypi.python.org/pypi\n",
      "Server response (200): OK\n",
      "running bdist_wheel\n",
      "running build\n",
      "running build_py\n",
      "file toolz.py (for module toolz) not found\n",
      "file toolz.py (for module toolz) not found\n",
      "installing to build/bdist.macosx-10.5-x86_64/wheel\n",
      "running install\n",
      "running install_lib\n",
      "warning: install_lib: 'build/lib' does not exist -- no Python modules to install\n",
      "\n",
      "running install_egg_info\n",
      "running egg_info\n",
      "writing dependency_links to whatever4e.egg-info/dependency_links.txt\n",
      "writing top-level names to whatever4e.egg-info/top_level.txt\n",
      "writing whatever4e.egg-info/PKG-INFO\n",
      "writing requirements to whatever4e.egg-info/requires.txt\n",
      "file toolz.py (for module toolz) not found\n",
      "reading manifest file 'whatever4e.egg-info/SOURCES.txt'\n",
      "reading manifest template 'MANIFEST.in'\n",
      "warning: no files found matching '*.ipynb' under directory 'tests/'\n",
      "writing manifest file 'whatever4e.egg-info/SOURCES.txt'\n",
      "Copying whatever4e.egg-info to build/bdist.macosx-10.5-x86_64/wheel/whatever4e-0.1.0-py3.5.egg-info\n",
      "running install_scripts\n",
      "creating build/bdist.macosx-10.5-x86_64/wheel/whatever4e-0.1.0.dist-info/WHEEL\n",
      "running upload\n",
      "Submitting /Users/tfast/w4e/dist/whatever4e-0.1.0-py2.py3-none-any.whl to https://testpypi.python.org/pypi\n",
      "Server response (200): OK\n"
     ]
    }
   ],
   "source": [
    "!python setup.py register -r pypitest\n",
    "!python setup.py sdist\n",
    "!python setup.py bdist_wheel\n",
    "!python setup.py sdist upload -r pypitest\n",
    "!python setup.py bdist_wheel upload -r pypitest"
   ]
  },
  {
   "cell_type": "markdown",
   "metadata": {},
   "source": [
    "# Cut a real release for PyPi"
   ]
  },
  {
   "cell_type": "code",
   "execution_count": 8,
   "metadata": {
    "collapsed": false
   },
   "outputs": [
    {
     "name": "stdout",
     "output_type": "stream",
     "text": [
      "running register\n",
      "running egg_info\n",
      "writing whatever4e.egg-info/PKG-INFO\n",
      "writing dependency_links to whatever4e.egg-info/dependency_links.txt\n",
      "writing requirements to whatever4e.egg-info/requires.txt\n",
      "writing top-level names to whatever4e.egg-info/top_level.txt\n",
      "file toolz.py (for module toolz) not found\n",
      "reading manifest file 'whatever4e.egg-info/SOURCES.txt'\n",
      "reading manifest template 'MANIFEST.in'\n",
      "warning: no files found matching '*.ipynb' under directory 'tests/'\n",
      "writing manifest file 'whatever4e.egg-info/SOURCES.txt'\n",
      "running check\n",
      "Registering whatever4e to https://pypi.python.org/pypi\n",
      "Server response (200): OK\n",
      "running sdist\n",
      "running egg_info\n",
      "writing whatever4e.egg-info/PKG-INFO\n",
      "writing dependency_links to whatever4e.egg-info/dependency_links.txt\n",
      "writing top-level names to whatever4e.egg-info/top_level.txt\n",
      "writing requirements to whatever4e.egg-info/requires.txt\n",
      "file toolz.py (for module toolz) not found\n",
      "reading manifest file 'whatever4e.egg-info/SOURCES.txt'\n",
      "reading manifest template 'MANIFEST.in'\n",
      "warning: no files found matching '*.ipynb' under directory 'tests/'\n",
      "writing manifest file 'whatever4e.egg-info/SOURCES.txt'\n",
      "running check\n",
      "creating whatever4e-0.1.0\n",
      "creating whatever4e-0.1.0/whatever4e.egg-info\n",
      "making hard links in whatever4e-0.1.0...\n",
      "hard linking Automation.ipynb -> whatever4e-0.1.0\n",
      "hard linking LICENSE -> whatever4e-0.1.0\n",
      "hard linking MANIFEST.in -> whatever4e-0.1.0\n",
      "hard linking README.ipynb -> whatever4e-0.1.0\n",
      "hard linking README.md -> whatever4e-0.1.0\n",
      "hard linking README.rst -> whatever4e-0.1.0\n",
      "hard linking setup.cfg -> whatever4e-0.1.0\n",
      "hard linking setup.py -> whatever4e-0.1.0\n",
      "hard linking whatever4e.ipynb -> whatever4e-0.1.0\n",
      "hard linking whatever4e.egg-info/PKG-INFO -> whatever4e-0.1.0/whatever4e.egg-info\n",
      "hard linking whatever4e.egg-info/SOURCES.txt -> whatever4e-0.1.0/whatever4e.egg-info\n",
      "hard linking whatever4e.egg-info/dependency_links.txt -> whatever4e-0.1.0/whatever4e.egg-info\n",
      "hard linking whatever4e.egg-info/requires.txt -> whatever4e-0.1.0/whatever4e.egg-info\n",
      "hard linking whatever4e.egg-info/top_level.txt -> whatever4e-0.1.0/whatever4e.egg-info\n",
      "copying setup.cfg -> whatever4e-0.1.0\n",
      "Writing whatever4e-0.1.0/setup.cfg\n",
      "Creating tar archive\n",
      "removing 'whatever4e-0.1.0' (and everything under it)\n",
      "running bdist_wheel\n",
      "running build\n",
      "running build_py\n",
      "file toolz.py (for module toolz) not found\n",
      "file toolz.py (for module toolz) not found\n",
      "installing to build/bdist.macosx-10.5-x86_64/wheel\n",
      "running install\n",
      "running install_lib\n",
      "warning: install_lib: 'build/lib' does not exist -- no Python modules to install\n",
      "\n",
      "running install_egg_info\n",
      "running egg_info\n",
      "writing dependency_links to whatever4e.egg-info/dependency_links.txt\n",
      "writing requirements to whatever4e.egg-info/requires.txt\n",
      "writing whatever4e.egg-info/PKG-INFO\n",
      "writing top-level names to whatever4e.egg-info/top_level.txt\n",
      "file toolz.py (for module toolz) not found\n",
      "reading manifest file 'whatever4e.egg-info/SOURCES.txt'\n",
      "reading manifest template 'MANIFEST.in'\n",
      "warning: no files found matching '*.ipynb' under directory 'tests/'\n",
      "writing manifest file 'whatever4e.egg-info/SOURCES.txt'\n",
      "Copying whatever4e.egg-info to build/bdist.macosx-10.5-x86_64/wheel/whatever4e-0.1.0-py3.5.egg-info\n",
      "running install_scripts\n",
      "creating build/bdist.macosx-10.5-x86_64/wheel/whatever4e-0.1.0.dist-info/WHEEL\n",
      "running sdist\n",
      "running egg_info\n",
      "writing dependency_links to whatever4e.egg-info/dependency_links.txt\n",
      "writing top-level names to whatever4e.egg-info/top_level.txt\n",
      "writing whatever4e.egg-info/PKG-INFO\n",
      "writing requirements to whatever4e.egg-info/requires.txt\n",
      "file toolz.py (for module toolz) not found\n",
      "reading manifest file 'whatever4e.egg-info/SOURCES.txt'\n",
      "reading manifest template 'MANIFEST.in'\n",
      "warning: no files found matching '*.ipynb' under directory 'tests/'\n",
      "writing manifest file 'whatever4e.egg-info/SOURCES.txt'\n",
      "running check\n",
      "creating whatever4e-0.1.0\n",
      "creating whatever4e-0.1.0/whatever4e.egg-info\n",
      "making hard links in whatever4e-0.1.0...\n",
      "hard linking Automation.ipynb -> whatever4e-0.1.0\n",
      "hard linking LICENSE -> whatever4e-0.1.0\n",
      "hard linking MANIFEST.in -> whatever4e-0.1.0\n",
      "hard linking README.ipynb -> whatever4e-0.1.0\n",
      "hard linking README.md -> whatever4e-0.1.0\n",
      "hard linking README.rst -> whatever4e-0.1.0\n",
      "hard linking setup.cfg -> whatever4e-0.1.0\n",
      "hard linking setup.py -> whatever4e-0.1.0\n",
      "hard linking whatever4e.ipynb -> whatever4e-0.1.0\n",
      "hard linking whatever4e.egg-info/PKG-INFO -> whatever4e-0.1.0/whatever4e.egg-info\n",
      "hard linking whatever4e.egg-info/SOURCES.txt -> whatever4e-0.1.0/whatever4e.egg-info\n",
      "hard linking whatever4e.egg-info/dependency_links.txt -> whatever4e-0.1.0/whatever4e.egg-info\n",
      "hard linking whatever4e.egg-info/requires.txt -> whatever4e-0.1.0/whatever4e.egg-info\n",
      "hard linking whatever4e.egg-info/top_level.txt -> whatever4e-0.1.0/whatever4e.egg-info\n",
      "copying setup.cfg -> whatever4e-0.1.0\n",
      "Writing whatever4e-0.1.0/setup.cfg\n",
      "Creating tar archive\n",
      "removing 'whatever4e-0.1.0' (and everything under it)\n",
      "running upload\n",
      "Submitting dist/whatever4e-0.1.0.tar.gz to https://pypi.python.org/pypi\n",
      "Server response (200): OK\n",
      "running bdist_wheel\n",
      "running build\n",
      "running build_py\n",
      "file toolz.py (for module toolz) not found\n",
      "file toolz.py (for module toolz) not found\n",
      "installing to build/bdist.macosx-10.5-x86_64/wheel\n",
      "running install\n",
      "running install_lib\n",
      "warning: install_lib: 'build/lib' does not exist -- no Python modules to install\n",
      "\n",
      "running install_egg_info\n",
      "running egg_info\n",
      "writing whatever4e.egg-info/PKG-INFO\n",
      "writing requirements to whatever4e.egg-info/requires.txt\n",
      "writing top-level names to whatever4e.egg-info/top_level.txt\n",
      "writing dependency_links to whatever4e.egg-info/dependency_links.txt\n",
      "file toolz.py (for module toolz) not found\n",
      "reading manifest file 'whatever4e.egg-info/SOURCES.txt'\n",
      "reading manifest template 'MANIFEST.in'\n",
      "warning: no files found matching '*.ipynb' under directory 'tests/'\n",
      "writing manifest file 'whatever4e.egg-info/SOURCES.txt'\n",
      "Copying whatever4e.egg-info to build/bdist.macosx-10.5-x86_64/wheel/whatever4e-0.1.0-py3.5.egg-info\n",
      "running install_scripts\n",
      "creating build/bdist.macosx-10.5-x86_64/wheel/whatever4e-0.1.0.dist-info/WHEEL\n",
      "running upload\n",
      "Submitting /Users/tfast/w4e/dist/whatever4e-0.1.0-py2.py3-none-any.whl to https://pypi.python.org/pypi\n",
      "Server response (200): OK\n"
     ]
    }
   ],
   "source": [
    "!python setup.py register -r pypi\n",
    "!python setup.py sdist\n",
    "!python setup.py bdist_wheel\n",
    "!python setup.py sdist upload -r pypi\n",
    "!python setup.py bdist_wheel upload -r pypi"
   ]
  },
  {
   "cell_type": "code",
   "execution_count": null,
   "metadata": {
    "collapsed": true
   },
   "outputs": [],
   "source": []
  }
 ],
 "metadata": {
  "kernelspec": {
   "display_name": "Python [Root]",
   "language": "python",
   "name": "Python [Root]"
  },
  "language_info": {
   "codemirror_mode": {
    "name": "ipython",
    "version": 3
   },
   "file_extension": ".py",
   "mimetype": "text/x-python",
   "name": "python",
   "nbconvert_exporter": "python",
   "pygments_lexer": "ipython3",
   "version": "3.5.1"
  },
  "widgets": {
   "state": {},
   "version": "1.1.0"
  }
 },
 "nbformat": 4,
 "nbformat_minor": 0
}
