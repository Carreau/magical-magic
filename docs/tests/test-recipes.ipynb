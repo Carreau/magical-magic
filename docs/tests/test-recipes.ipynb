{
 "cells": [
  {
   "cell_type": "code",
   "execution_count": 1,
   "metadata": {
    "collapsed": false
   },
   "outputs": [
    {
     "data": {
      "application/javascript": [
       "require([\n",
       "                    \"notebook/js/codecell\",\n",
       "                    \"codemirror/mode/yaml/yaml\"\n",
       "                ],\n",
       "                function(cc){\n",
       "                    cc.CodeCell.options_default.highlight_modes.magic_yaml = {\n",
       "                        reg: [\"^%%yaml\"]\n",
       "                    };\n",
       "                }\n",
       "            );\n",
       "            "
      ],
      "text/plain": [
       "<IPython.core.display.Javascript object>"
      ]
     },
     "metadata": {},
     "output_type": "display_data"
    }
   ],
   "source": [
    "\"\"\"setup\"\"\"\n",
    "import magical\n",
    "from jinja2 import Environment\n",
    "from IPython import get_ipython"
   ]
  },
  {
   "cell_type": "code",
   "execution_count": 2,
   "metadata": {
    "collapsed": false
   },
   "outputs": [
    {
     "data": {
      "application/javascript": [
       "require([\n",
       "                    \"notebook/js/codecell\",\n",
       "                    \"codemirror/mode/jinja2/jinja2\"\n",
       "                ],\n",
       "                function(cc){\n",
       "                    cc.CodeCell.options_default.highlight_modes.magic_jinja2 = {\n",
       "                        reg: [\"^%%jinja2\"]\n",
       "                    };\n",
       "                }\n",
       "            );\n",
       "            "
      ],
      "text/plain": [
       "<IPython.core.display.Javascript object>"
      ]
     },
     "metadata": {},
     "output_type": "display_data"
    }
   ],
   "source": [
    "\"\"\"test_register_jinja\"\"\"\n",
    "\n",
    "env = magical.register_jinja2_magic()\n",
    "assert isinstance(env, Environment)\n",
    "assert 'jinja2' in get_ipython().magics_manager.magics['cell']\n",
    "assert 'jinja2' in get_ipython().magics_manager.magics['line']"
   ]
  },
  {
   "cell_type": "code",
   "execution_count": 3,
   "metadata": {
    "collapsed": false
   },
   "outputs": [
    {
     "data": {
      "text/markdown": [
       "\n",
       "# testing\n",
       "\n",
       "['selectattr', 'dictsort', 'wordcount', 'batch', 'float', 'pprint', 'title', 'default', 'd', 'slice', 'attr', 'list', 'escape', 'center', 'rejectattr', 'safe', 'string', 'wordwrap', 'sum', 'map', 'lower', 'capitalize', 'random', 'format', 'filesizeformat', 'join', 'reverse', 'replace', 'round', 'forceescape', 'select', 'upper', 'int', 'e', 'truncate', 'trim', 'sort', 'last', 'reject', 'urlize', 'xmlattr', 'indent', 'striptags', 'first', 'groupby', 'abs', 'urlencode', 'count', 'length']"
      ],
      "text/plain": [
       "<IPython.core.display.Markdown object>"
      ]
     },
     "metadata": {},
     "output_type": "display_data"
    }
   ],
   "source": [
    "get_ipython().run_cell_magic('jinja2', 'some_markdown', \"\"\"\n",
    "# testing\n",
    "\n",
    "{{env.filters.keys()|list}}\n",
    "\"\"\")\n",
    "\n",
    "\n",
    "assert \"\"\"\n",
    "# testing\n",
    "\n",
    "{}\"\"\".format(list(env.filters.keys())) == some_markdown.render(**get_ipython().user_ns)"
   ]
  },
  {
   "cell_type": "code",
   "execution_count": 4,
   "metadata": {
    "collapsed": false
   },
   "outputs": [
    {
     "data": {
      "application/javascript": [
       "require([\n",
       "                    \"notebook/js/codecell\",\n",
       "                    \"codemirror/mode/markdown/markdown\"\n",
       "                ],\n",
       "                function(cc){\n",
       "                    cc.CodeCell.options_default.highlight_modes.magic_mistune = {\n",
       "                        reg: [\"^%%mistune\"]\n",
       "                    };\n",
       "                }\n",
       "            );\n",
       "            "
      ],
      "text/plain": [
       "<IPython.core.display.Javascript object>"
      ]
     },
     "metadata": {},
     "output_type": "display_data"
    }
   ],
   "source": [
    "\"\"\"test_register_mistune\"\"\"\n",
    "magical.register_mistune_magic()\n",
    "assert 'mistune' in get_ipython().magics_manager.magics['cell']\n",
    "assert 'mistune' in get_ipython().magics_manager.magics['line']"
   ]
  },
  {
   "cell_type": "code",
   "execution_count": 5,
   "metadata": {
    "collapsed": false
   },
   "outputs": [
    {
     "data": {
      "application/javascript": [
       "require([\n",
       "                    \"notebook/js/codecell\",\n",
       "                    \"codemirror/mode/yaml/yaml\"\n",
       "                ],\n",
       "                function(cc){\n",
       "                    cc.CodeCell.options_default.highlight_modes.magic_yaml = {\n",
       "                        reg: [\"^%%yaml\"]\n",
       "                    };\n",
       "                }\n",
       "            );\n",
       "            "
      ],
      "text/plain": [
       "<IPython.core.display.Javascript object>"
      ]
     },
     "metadata": {},
     "output_type": "display_data"
    }
   ],
   "source": [
    "\"\"\"test_register_yaml\"\"\"\n",
    "magical.register_yaml_magic()\n",
    "assert 'yaml' in get_ipython().magics_manager.magics['cell']\n",
    "assert 'yaml' in get_ipython().magics_manager.magics['line']"
   ]
  }
 ],
 "metadata": {
  "anaconda-cloud": {},
  "kernelspec": {
   "display_name": "Python [Root]",
   "language": "python",
   "name": "Python [Root]"
  },
  "language_info": {
   "codemirror_mode": {
    "name": "ipython",
    "version": 3
   },
   "file_extension": ".py",
   "mimetype": "text/x-python",
   "name": "python",
   "nbconvert_exporter": "python",
   "pygments_lexer": "ipython3",
   "version": "3.5.2"
  }
 },
 "nbformat": 4,
 "nbformat_minor": 0
}
