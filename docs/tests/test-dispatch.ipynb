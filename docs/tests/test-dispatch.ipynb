{
 "cells": [
  {
   "cell_type": "code",
   "execution_count": 1,
   "metadata": {
    "collapsed": true
   },
   "outputs": [],
   "source": [
    "\"\"\"setup\"\"\"\n",
    "from whatever import *\n",
    "from collections import OrderedDict\n",
    "from typing import Callable, Any"
   ]
  },
  {
   "cell_type": "code",
   "execution_count": 2,
   "metadata": {
    "collapsed": true
   },
   "outputs": [],
   "source": [
    "\"\"\"test_subclass\"\"\"\n",
    "assert isinstance(Dispatch(), OrderedDict)\n",
    "assert isinstance(Dispatch(), Callable)"
   ]
  },
  {
   "cell_type": "code",
   "execution_count": 3,
   "metadata": {
    "collapsed": false
   },
   "outputs": [],
   "source": [
    "\"\"\"dict_input\"\"\"\n",
    "d = Dispatch({\n",
    "        int: int,\n",
    "        str: int,\n",
    "    })\n",
    "assert isinstance(d(\"0\"), int)\n",
    "assert isinstance(d(0), int)"
   ]
  },
  {
   "cell_type": "code",
   "execution_count": 4,
   "metadata": {
    "collapsed": false
   },
   "outputs": [],
   "source": [
    "\"\"\"list_input\"\"\"\n",
    "d = Dispatch([\n",
    "        [int, int],\n",
    "        [str, int],\n",
    "    ])\n",
    "assert isinstance(d(\"0\"), int)\n",
    "assert isinstance(d(0), int)"
   ]
  },
  {
   "cell_type": "code",
   "execution_count": 9,
   "metadata": {
    "collapsed": false
   },
   "outputs": [],
   "source": [
    "\"\"\"list_input\"\"\"\n",
    "d = Dispatch([\n",
    "        [type(None), lambda x: 'empty'],\n",
    "        [Any, lambda x: 'not empty'], # catch all\n",
    "    ])\n",
    "assert d(None) == 'empty'"
   ]
  },
  {
   "cell_type": "code",
   "execution_count": 10,
   "metadata": {
    "collapsed": true
   },
   "outputs": [],
   "source": [
    "\"\"\"list_input\"\"\"\n",
    "d = Dispatch([\n",
    "        [Any, lambda x: 'not empty'],\n",
    "        [type(None), lambda x: 'empty'],\n",
    "    ])\n",
    "assert d(None) == 'not empty'"
   ]
  },
  {
   "cell_type": "code",
   "execution_count": 19,
   "metadata": {
    "collapsed": false
   },
   "outputs": [],
   "source": [
    "\"\"\"test_arity\"\"\"\n",
    "d = Dispatch({\n",
    "        (str, int): lambda x, y: str(x) + str(y)\n",
    "    })\n",
    "assert d('test',1) == 'test1'"
   ]
  },
  {
   "cell_type": "code",
   "execution_count": 20,
   "metadata": {
    "collapsed": false
   },
   "outputs": [],
   "source": [
    "\"\"\"test_arity_multiclas\"\"\"\n",
    "d = Dispatch({\n",
    "        ((str, int,), int): lambda x, y: str(x) + str(y)\n",
    "    })\n",
    "assert d(10000,1) == ''.join([str(10000),str(1)])"
   ]
  }
 ],
 "metadata": {
  "kernelspec": {
   "display_name": "Python [Root]",
   "language": "python",
   "name": "Python [Root]"
  },
  "language_info": {
   "codemirror_mode": {
    "name": "ipython",
    "version": 3
   },
   "file_extension": ".py",
   "mimetype": "text/x-python",
   "name": "python",
   "nbconvert_exporter": "python",
   "pygments_lexer": "ipython3",
   "version": "3.5.2"
  }
 },
 "nbformat": 4,
 "nbformat_minor": 0
}
