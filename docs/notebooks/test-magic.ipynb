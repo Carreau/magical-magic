{
 "cells": [
  {
   "cell_type": "code",
   "execution_count": null,
   "metadata": {
    "collapsed": true
   },
   "outputs": [],
   "source": [
    "from whatever import *"
   ]
  },
  {
   "cell_type": "code",
   "execution_count": 33,
   "metadata": {
    "collapsed": true
   },
   "outputs": [],
   "source": [
    "magical('markdown', identity)"
   ]
  },
  {
   "cell_type": "code",
   "execution_count": 34,
   "metadata": {
    "collapsed": false
   },
   "outputs": [
    {
     "data": {
      "text/markdown": [
       "\n",
       "# This is markdown"
      ],
      "text/plain": [
       "<IPython.core.display.Markdown object>"
      ]
     },
     "metadata": {},
     "output_type": "display_data"
    }
   ],
   "source": [
    "%%markdown\n",
    "\n",
    "# This is markdown"
   ]
  },
  {
   "cell_type": "code",
   "execution_count": 5,
   "metadata": {
    "collapsed": true
   },
   "outputs": [],
   "source": [
    "from yaml import safe_load\n",
    "magical('yaml', safe_load, display=print)"
   ]
  },
  {
   "cell_type": "code",
   "execution_count": 7,
   "metadata": {
    "collapsed": false
   },
   "outputs": [
    {
     "name": "stdout",
     "output_type": "stream",
     "text": [
      "{'foo': ['bar', 'baz']}\n"
     ]
    }
   ],
   "source": [
    "%%yaml a\n",
    "foo: \n",
    "    - bar\n",
    "    - baz"
   ]
  },
  {
   "cell_type": "code",
   "execution_count": 10,
   "metadata": {
    "collapsed": false
   },
   "outputs": [],
   "source": [
    "assert a == {'foo': ['bar', 'baz']}"
   ]
  },
  {
   "cell_type": "code",
   "execution_count": 14,
   "metadata": {
    "collapsed": false
   },
   "outputs": [
    {
     "name": "stdout",
     "output_type": "stream",
     "text": [
      "{'foo': 'bar', 'baz': 'yee-haw'}\n"
     ]
    }
   ],
   "source": [
    "%%yaml data\n",
    "foo: bar\n",
    "baz: yee-haw"
   ]
  },
  {
   "cell_type": "code",
   "execution_count": 29,
   "metadata": {
    "collapsed": false
   },
   "outputs": [],
   "source": [
    "from mistune import markdown\n",
    "from jinja2 import Template\n",
    "from IPython import display\n",
    "magical('mistune', Template, display=lambda x:pipe(\n",
    "        x.render(**globals()), display.Markdown, display.display \n",
    "    ))"
   ]
  },
  {
   "cell_type": "markdown",
   "metadata": {},
   "source": [
    "## `jinja` magic"
   ]
  },
  {
   "cell_type": "code",
   "execution_count": 30,
   "metadata": {
    "collapsed": false
   },
   "outputs": [
    {
     "data": {
      "text/markdown": [
       "# This is markdown\n",
       "\n",
       "It is rendered into HTML by python.\n",
       "\n",
       "It can access global variables.  \n",
       "\n",
       "* __foo__ - bar\n",
       "* __baz__ - yee-haw\n"
      ],
      "text/plain": [
       "<IPython.core.display.Markdown object>"
      ]
     },
     "metadata": {},
     "output_type": "display_data"
    }
   ],
   "source": [
    "%%mistune\n",
    "# This is markdown\n",
    "\n",
    "It is rendered into HTML by python.\n",
    "\n",
    "It can access global variables.  \n",
    "\n",
    "{% for key, value in data.items() %}* __{{key}}__ - {{value}}\n",
    "{% endfor %}"
   ]
  },
  {
   "cell_type": "markdown",
   "metadata": {},
   "source": [
    "## `jinja` alternate jinja magic"
   ]
  },
  {
   "cell_type": "code",
   "execution_count": 31,
   "metadata": {
    "collapsed": true
   },
   "outputs": [],
   "source": [
    "from jinja2 import Template\n",
    "magical('jinja', Template, display=lambda x: pipe(\n",
    "        x.render(**globals()), display.Markdown, display.display\n",
    "    ))"
   ]
  },
  {
   "cell_type": "code",
   "execution_count": 32,
   "metadata": {
    "collapsed": false
   },
   "outputs": [
    {
     "data": {
      "text/markdown": [
       "# This markdown is rendered by the notebook in the browser\n",
       "\n",
       "It can __ALSO__ access global variables.  \n",
       "\n",
       "* __foo__ - bar\n",
       "* __baz__ - yee-haw\n"
      ],
      "text/plain": [
       "<IPython.core.display.Markdown object>"
      ]
     },
     "metadata": {},
     "output_type": "display_data"
    }
   ],
   "source": [
    "%%jinja\n",
    "# This markdown is rendered by the notebook in the browser\n",
    "\n",
    "It can __ALSO__ access global variables.  \n",
    "\n",
    "{% for key, value in data.items() %}* __{{key}}__ - {{value}}\n",
    "{% endfor %}"
   ]
  }
 ],
 "metadata": {
  "anaconda-cloud": {},
  "kernelspec": {
   "display_name": "Python [Root]",
   "language": "python",
   "name": "Python [Root]"
  },
  "language_info": {
   "codemirror_mode": {
    "name": "ipython",
    "version": 3
   },
   "file_extension": ".py",
   "mimetype": "text/x-python",
   "name": "python",
   "nbconvert_exporter": "python",
   "pygments_lexer": "ipython3",
   "version": "3.5.2"
  }
 },
 "nbformat": 4,
 "nbformat_minor": 0
}
