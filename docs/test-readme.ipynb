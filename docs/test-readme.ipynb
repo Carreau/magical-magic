{
 "cells": [
  {
   "cell_type": "markdown",
   "metadata": {},
   "source": [
    "# `whatever-forever`\n",
    "\n",
    "Create reusable, higher-order functions using declarative syntaxes in Python.\n",
    "\n",
    "## Installation\n",
    "\n",
    "`pip install whatever-forever`"
   ]
  },
  {
   "cell_type": "markdown",
   "metadata": {},
   "source": [
    "## Basic Usage\n",
    "\n",
    "### Chaining <small>in Python</small>"
   ]
  },
  {
   "cell_type": "code",
   "execution_count": 10,
   "metadata": {
    "collapsed": false
   },
   "outputs": [
    {
     "data": {
      "text/plain": [
       "[3, 4, 5, 6, 7]"
      ]
     },
     "execution_count": 10,
     "metadata": {},
     "output_type": "execute_result"
    }
   ],
   "source": [
    "from whatever import *\n",
    "my_chain = Chain(5).range.map(lambda x: x+3).list\n",
    "my_chain"
   ]
  },
  {
   "cell_type": "markdown",
   "metadata": {},
   "source": [
    "##### A random list"
   ]
  },
  {
   "cell_type": "code",
   "execution_count": 11,
   "metadata": {
    "collapsed": false
   },
   "outputs": [
    {
     "data": {
      "text/plain": [
       "'[0.9797835854505124, 0.7465362603228028, 0.9564821512434867, 0.25918443126809687, 0.8989533853121069]'"
      ]
     },
     "execution_count": 11,
     "metadata": {},
     "output_type": "execute_result"
    }
   ],
   "source": [
    "from random import random\n",
    "random_list = _X(5).range.map(lambda x: random()).list.value()\n",
    "str(random_list)"
   ]
  },
  {
   "cell_type": "markdown",
   "metadata": {},
   "source": [
    "### Syntactic Sugar"
   ]
  },
  {
   "cell_type": "code",
   "execution_count": 13,
   "metadata": {
    "collapsed": false
   },
   "outputs": [
    {
     "data": {
      "text/plain": [
       "['0.98', '0.75', '0.96', '0.26', '0.90']"
      ]
     },
     "execution_count": 13,
     "metadata": {},
     "output_type": "execute_result"
    }
   ],
   "source": [
    "from random import random\n",
    "_X(random_list) * (lambda s: '%3.2f' % s) | list"
   ]
  },
  {
   "cell_type": "code",
   "execution_count": 14,
   "metadata": {
    "collapsed": false
   },
   "outputs": [
    {
     "data": {
      "text/plain": [
       "['0.98', '0.75', '0.96', '0.90']"
      ]
     },
     "execution_count": 14,
     "metadata": {},
     "output_type": "execute_result"
    }
   ],
   "source": [
    "from random import random\n",
    "((_X(random_list) + (lambda x: x >.5) )\n",
    " * (lambda s: '%3.2f' % s) \n",
    " | list\n",
    ")"
   ]
  },
  {
   "cell_type": "markdown",
   "metadata": {},
   "source": [
    "## Development\n",
    "\n",
    "#### Running the Build and Tests\n",
    "\n",
    "```\n",
    "pip install -r requirements-dev.txt\n",
    "python setup.py develop\n",
    "watchmedo tricks tricks.yaml\n",
    "```\n",
    "\n",
    "The `watchmedo` script will convert your notebooks to scripts and html files.  `py.test-ipynb` will test all notebooks matching `test-*.ipynb`.\n",
    "\n",
    "#### Running the docs \n",
    "\n",
    "```\n",
    "jekyll serve docs -wit\n",
    "```\n",
    "\n",
    "Docs are hosted at `http://localhost:4000/whatever-forever/`.\n"
   ]
  },
  {
   "cell_type": "markdown",
   "metadata": {},
   "source": [
    "## License\n",
    "`whatever-forever` is released as free software under the [BSD 3-Clause license](https://github.com/tonyfast/whatever-forever/blob/master/LICENSE)."
   ]
  }
 ],
 "metadata": {
  "anaconda-cloud": {},
  "kernelspec": {
   "display_name": "Python [Root]",
   "language": "python",
   "name": "Python [Root]"
  },
  "language_info": {
   "codemirror_mode": {
    "name": "ipython",
    "version": 3
   },
   "file_extension": ".py",
   "mimetype": "text/x-python",
   "name": "python",
   "nbconvert_exporter": "python",
   "pygments_lexer": "ipython3",
   "version": "3.5.2"
  }
 },
 "nbformat": 4,
 "nbformat_minor": 0
}
