{
 "cells": [
  {
   "cell_type": "markdown",
   "metadata": {},
   "source": [
    "# `whatever-forever`\n",
    "\n",
    "A generalized declarative syntax for Python objects.\n",
    "\n",
    "## Installation\n",
    "\n",
    "`pip install whatever-forever`"
   ]
  },
  {
   "cell_type": "markdown",
   "metadata": {},
   "source": [
    "## Basic Usage\n",
    "\n",
    "### Chain - <small>declarative </small>"
   ]
  },
  {
   "cell_type": "code",
   "execution_count": 8,
   "metadata": {
    "collapsed": false
   },
   "outputs": [
    {
     "data": {
      "text/plain": [
       "[3, 4, 5, 6, 7]"
      ]
     },
     "execution_count": 8,
     "metadata": {},
     "output_type": "execute_result"
    }
   ],
   "source": [
    "from whatever import *\n",
    "my_chain = Chain(5).range.map(lambda x: x+3).list\n",
    "my_chain"
   ]
  },
  {
   "cell_type": "markdown",
   "metadata": {},
   "source": [
    "##### A random list"
   ]
  },
  {
   "cell_type": "code",
   "execution_count": 4,
   "metadata": {
    "collapsed": false
   },
   "outputs": [
    {
     "data": {
      "text/plain": [
       "'[0.054198466781843035, 0.3460878567298823, 0.4675066659151689, 0.1821870800287837, 0.8590642257986899]'"
      ]
     },
     "execution_count": 4,
     "metadata": {},
     "output_type": "execute_result"
    }
   ],
   "source": [
    "from random import random\n",
    "random_list = _X(5).range.map(lambda x: random()).list.value()\n",
    "str(random_list)"
   ]
  },
  {
   "cell_type": "code",
   "execution_count": 26,
   "metadata": {
    "collapsed": false
   },
   "outputs": [
    {
     "data": {
      "text/plain": [
       "['0.99', '0.01', '0.89', '0.86', '0.30']"
      ]
     },
     "execution_count": 26,
     "metadata": {},
     "output_type": "execute_result"
    }
   ],
   "source": [
    "from random import random\n",
    "_X(random_list) * (lambda s: '%3.2f' % s) | list"
   ]
  },
  {
   "cell_type": "code",
   "execution_count": 29,
   "metadata": {
    "collapsed": false
   },
   "outputs": [
    {
     "data": {
      "text/plain": [
       "['0.99', '0.89', '0.86']"
      ]
     },
     "execution_count": 29,
     "metadata": {},
     "output_type": "execute_result"
    }
   ],
   "source": [
    "from random import random\n",
    "((_X(random_list) + (lambda x: x >.5) )\n",
    " * (lambda s: '%3.2f' % s) \n",
    " | list\n",
    ")"
   ]
  },
  {
   "cell_type": "markdown",
   "metadata": {},
   "source": [
    "## `magical`\n",
    "\n",
    "Easy to construct cell magics\n",
    "\n",
    "### Cell Magics\n",
    "\n",
    "Create a `jinja` to Markdown magic.\n",
    "\n",
    "```python\n",
    "from jinja2 import Template\n",
    "@magical('jinja2', lang='jinja2', display='Markdown')\n",
    "def render_jinja_with_globals(cell):\n",
    "    return Template(cell).render(**globals())\n",
    "```"
   ]
  },
  {
   "cell_type": "markdown",
   "metadata": {},
   "source": [
    "## Development\n",
    "\n",
    "Running test and the docs server.\n",
    "\n",
    "```\n",
    "watchmedo tricks tricks.yaml\n",
    "jekyll serve docs -wit\n",
    "```"
   ]
  },
  {
   "cell_type": "markdown",
   "metadata": {},
   "source": [
    "## License\n",
    "`whatever-forever` is released as free software under the [BSD 3-Clause license](https://github.com/tonyfast/whatever-forever/blob/master/LICENSE)."
   ]
  }
 ],
 "metadata": {
  "anaconda-cloud": {},
  "kernelspec": {
   "display_name": "Python [Root]",
   "language": "python",
   "name": "Python [Root]"
  },
  "language_info": {
   "codemirror_mode": {
    "name": "ipython",
    "version": 3
   },
   "file_extension": ".py",
   "mimetype": "text/x-python",
   "name": "python",
   "nbconvert_exporter": "python",
   "pygments_lexer": "ipython3",
   "version": "3.5.2"
  }
 },
 "nbformat": 4,
 "nbformat_minor": 0
}
