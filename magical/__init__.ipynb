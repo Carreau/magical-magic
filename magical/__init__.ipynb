{
 "cells": [
  {
   "cell_type": "code",
   "execution_count": 3,
   "metadata": {
    "collapsed": false
   },
   "outputs": [],
   "source": [
    "from magical.magic import magical\n",
    "from magical.recipes import (\n",
    "    register_jinja2_magic, \n",
    "    register_mistune_magic, \n",
    "    register_yaml_magic\n",
    ")\n",
    "\n",
    "__version__ = \"0.0.6\"\n",
    "\n",
    "magical\n",
    "\n",
    "__all__ = [\n",
    "    'magical', 'register_jinja2_magic', \n",
    "    'register_mistune_magic', 'register_yaml_magic',\n",
    "]"
   ]
  }
 ],
 "metadata": {
  "anaconda-cloud": {},
  "kernelspec": {
   "display_name": "Python [Root]",
   "language": "python",
   "name": "Python [Root]"
  },
  "language_info": {
   "codemirror_mode": {
    "name": "ipython",
    "version": 3
   },
   "file_extension": ".py",
   "mimetype": "text/x-python",
   "name": "python",
   "nbconvert_exporter": "python",
   "pygments_lexer": "ipython3",
   "version": "3.5.2"
  }
 },
 "nbformat": 4,
 "nbformat_minor": 0
}
