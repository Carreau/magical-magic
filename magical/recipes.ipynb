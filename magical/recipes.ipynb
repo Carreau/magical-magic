{
 "cells": [
  {
   "cell_type": "code",
   "execution_count": 72,
   "metadata": {
    "collapsed": false
   },
   "outputs": [],
   "source": [
    "from magical.magic import magical\n",
    "from toolz.curried import compose, partial\n",
    "from jinja2 import Environment, Template\n",
    "import IPython\n",
    "from mistune import markdown\n",
    "import yaml\n",
    "\n",
    "__all__ = [\n",
    "    'register_jinja2_magic', 'register_mistune_magic', 'register_yaml_magic',\n",
    "]"
   ]
  },
  {
   "cell_type": "code",
   "execution_count": 51,
   "metadata": {
    "collapsed": false
   },
   "outputs": [],
   "source": [
    "def _render_jinja2_with_globals(template):\n",
    "    return template.render(\n",
    "        **IPython.get_ipython().user_ns\n",
    "    )"
   ]
  },
  {
   "cell_type": "code",
   "execution_count": 63,
   "metadata": {
    "collapsed": false
   },
   "outputs": [],
   "source": [
    "def register_jinja2_magic(env=Environment(), display='Markdown'):\n",
    "    \"\"\"Display reusable jinja2 templates.  Returns a jinja2 template.\n",
    "    \"\"\"\n",
    "    magical(\n",
    "        'jinja2', lang='jinja2', \n",
    "        display=compose(\n",
    "            IPython.display.display,\n",
    "            IPython.display.Markdown,\n",
    "            lambda x: x.render(**IPython.get_ipython().user_ns),\n",
    "        )\n",
    "    )(env.from_string)\n",
    "    return env"
   ]
  },
  {
   "cell_type": "code",
   "execution_count": 61,
   "metadata": {
    "collapsed": true
   },
   "outputs": [],
   "source": [
    "def register_mistune_magic(**kwargs):\n",
    "    magical('mistune', display='HTML', lang='markdown')(\n",
    "        compose(partial(markdown, **kwargs), _render_jinja2_with_globals, Template)\n",
    "    )"
   ]
  },
  {
   "cell_type": "code",
   "execution_count": 54,
   "metadata": {
    "collapsed": false
   },
   "outputs": [
    {
     "data": {
      "application/javascript": [
       "require([\n",
       "                    \"notebook/js/codecell\",\n",
       "                    \"codemirror/mode/yaml/yaml\"\n",
       "                ],\n",
       "                function(cc){\n",
       "                    cc.CodeCell.options_default.highlight_modes.magic_yaml = {\n",
       "                        reg: [\"^%%yaml\"]\n",
       "                    };\n",
       "                }\n",
       "            );\n",
       "            "
      ],
      "text/plain": [
       "<IPython.core.display.Javascript object>"
      ]
     },
     "metadata": {},
     "output_type": "display_data"
    }
   ],
   "source": [
    "def register_yaml_magic(loader=yaml.SafeLoader):\n",
    "    magical('yaml', display=print, lang='yaml')(\n",
    "        compose(partial(yaml.load, Loader=loader), _render_jinja2_with_globals, Template)\n",
    "    )\n",
    "register_yaml_magic()"
   ]
  }
 ],
 "metadata": {
  "anaconda-cloud": {},
  "kernelspec": {
   "display_name": "Python [Root]",
   "language": "python",
   "name": "Python [Root]"
  },
  "language_info": {
   "codemirror_mode": {
    "name": "ipython",
    "version": 3
   },
   "file_extension": ".py",
   "mimetype": "text/x-python",
   "name": "python",
   "nbconvert_exporter": "python",
   "pygments_lexer": "ipython3",
   "version": "3.5.2"
  }
 },
 "nbformat": 4,
 "nbformat_minor": 0
}
