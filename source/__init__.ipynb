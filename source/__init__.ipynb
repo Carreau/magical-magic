{
 "cells": [
  {
   "cell_type": "markdown",
   "metadata": {},
   "source": [
    "# Whatever Forever\n",
    "\n",
    "Pythonic syntaxes that save pixels when developing in the notebook."
   ]
  },
  {
   "cell_type": "markdown",
   "metadata": {},
   "source": [
    "## `Chain`\n",
    "\n",
    "A chain is a typographically compact manner of creating complicated\n",
    "expressions in Pythonic syntax.\n",
    "\n",
    "### Chainable Values\n",
    "\n",
    "```python\n",
    "some_expr = Chain([1,2,3]).reversed().map(lambda x: x**2).list()\n",
    "some_expr.value()\n",
    "some_expr.value([3,5,8])\n",
    "```\n",
    "\n",
    "### Syntactic Sugar\n",
    "\n",
    "`\\` & `>` offer chain new functions and evaluate them respectively.\n",
    "\n",
    "```python\n",
    "from toolz.curried import *\n",
    "some_expr = Chain([1,2,3]) | reversed | map(lambda x: x**2) | list\n",
    "some_value = Chain([1,2,3]) | reversed | map(lambda x: x**2) > list\n",
    "```"
   ]
  },
  {
   "cell_type": "markdown",
   "metadata": {},
   "source": [
    "## `Whatever`\n",
    "\n",
    "Easy to construct cell magics\n",
    "\n",
    "### Cell Magics\n",
    "\n",
    "Create a `jinja` to Markdown magic.\n",
    "\n",
    "```python\n",
    "from whatever4e import Forever\n",
    "from jinja2 import Template\n",
    "@Forever.cell('jinja2', lang='jinja2', display='Markdown')\n",
    "def render_jinja_with_globals(cell):\n",
    "    return Template(cell).render(**globals())\n",
    "```"
   ]
  },
  {
   "cell_type": "markdown",
   "metadata": {},
   "source": [
    "## License\n",
    "`whatever4e` is released as free software under the [BSD 3-Clause license]\n",
    "(https://github.com/tonyfast/whatever-forever/blob/master/LICENSE)."
   ]
  },
  {
   "cell_type": "markdown",
   "metadata": {},
   "source": [
    "> Add toolz.curried to global imports because I keep using it."
   ]
  },
  {
   "cell_type": "code",
   "execution_count": null,
   "metadata": {
    "collapsed": false
   },
   "outputs": [],
   "source": [
    "__version_info__ = (0, 0, 11)\n",
    "__version__ = '.'.join(map(str, __version_info__))\n",
    "\n",
    "from .chain import Chain, this, _X\n",
    "from .magic import Forever\n",
    "from class_maker import method\n",
    "from toolz.curried import *\n",
    "import toolz.curried\n",
    "\n",
    "__all__ = [\n",
    "    'Forever', 'Chain', 'method', 'this', '_X', *pipe(\n",
    "        toolz.curried, dir, filter(\n",
    "            complement(lambda s: s.startswith('_'))\n",
    "        ), list\n",
    "    )\n",
    "]"
   ]
  }
 ],
 "metadata": {
  "anaconda-cloud": {},
  "kernelspec": {
   "display_name": "Python [Root]",
   "language": "python",
   "name": "Python [Root]"
  },
  "language_info": {
   "codemirror_mode": {
    "name": "ipython",
    "version": 3
   },
   "file_extension": ".py",
   "mimetype": "text/x-python",
   "name": "python",
   "nbconvert_exporter": "python",
   "pygments_lexer": "ipython3",
   "version": "3.5.2"
  }
 },
 "nbformat": 4,
 "nbformat_minor": 0
}
