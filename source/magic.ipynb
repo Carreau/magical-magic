{
 "cells": [
  {
   "cell_type": "code",
   "execution_count": 29,
   "metadata": {
    "collapsed": true
   },
   "outputs": [],
   "source": [
    "from IPython import display, get_ipython\n",
    "from IPython.core import magic_arguments\n",
    "from IPython.core.magic import (\n",
    "    Magics,\n",
    "    magics_class,\n",
    "    line_cell_magic,\n",
    ")\n",
    "from toolz.curried import *"
   ]
  },
  {
   "cell_type": "code",
   "execution_count": 81,
   "metadata": {
    "collapsed": false
   },
   "outputs": [],
   "source": [
    "@magics_class\n",
    "class Whatever(Magics):\n",
    "    def __init__(self, name, f, magic_kind='cell', lang=None, **kwargs):\n",
    "        \"\"\"Initialize a new [cell/line] magic.  The executes f on the [cell/line] body.\n",
    "        \"\"\"\n",
    "        self.name = name\n",
    "        self.f = f\n",
    "        if lang:\n",
    "            pipe(\"\"\"require([\n",
    "                        \"notebook/js/codecell\",\n",
    "                        \"codemirror/mode/{0}/{0}\"\n",
    "                    ],\n",
    "                    function(cc){{\n",
    "                        cc.CodeCell.options_default.highlight_modes.magic_{1} = {{\n",
    "                            reg: [\"^%%{1}\"]\n",
    "                        }};\n",
    "                    }}\n",
    "                );\n",
    "                \"\"\".format(lang, name), \n",
    "                 display.Javascript, display.display,\n",
    "            )\n",
    "        get_ipython().register_magic_function(\n",
    "            partial(self.forever, f=f, **kwargs),\n",
    "            magic_kind=magic_kind, magic_name=name,\n",
    "        )\n",
    "        "
   ]
  },
  {
   "cell_type": "code",
   "execution_count": 82,
   "metadata": {
    "collapsed": true
   },
   "outputs": [],
   "source": [
    "new_method = lambda x: setattr(Whatever, x.__name__, classmethod(x))"
   ]
  },
  {
   "cell_type": "code",
   "execution_count": 102,
   "metadata": {
    "collapsed": true
   },
   "outputs": [],
   "source": [
    "@new_method\n",
    "@line_cell_magic\n",
    "@magic_arguments.magic_arguments()\n",
    "@magic_arguments.argument(\n",
    "    \"name\",\n",
    "    default=None,\n",
    "    nargs=\"?\",\n",
    "    help=\"\"\"Name of local variable to set to parsed value\"\"\",\n",
    ")\n",
    "@magic_arguments.argument(\n",
    "    \"-c\",\n",
    "    \"--code\",\n",
    "    default=\"\",\n",
    "    help=\"\"\"Some code to run.\"\"\",\n",
    ")\n",
    "@magic_arguments.argument(\n",
    "    \"-d\",\n",
    "    \"--display\",\n",
    "    default=-1,\n",
    "    nargs=\"?\",\n",
    "    help=\"\"\"An IPython.display method.\"\"\"\n",
    ")\n",
    "def forever(cls, line, cell=\"\"\"\"\"\", f=identity, display=None):\n",
    "    args = magic_arguments.parse_argstring(cls.forever, line.strip())\n",
    "    if not cell:\n",
    "        cell = pipe(args.code, lambda x: eval(x, get_ipython().user_ns))\n",
    "    \n",
    "    if args.display != -1:\n",
    "        display = args.display\n",
    "    \n",
    "    val = f(cell)\n",
    "    if bool(args.name):\n",
    "        get_ipython().user_ns[args.name] = val\n",
    "\n",
    "    return cls.show(display, val)"
   ]
  },
  {
   "cell_type": "code",
   "execution_count": 1,
   "metadata": {
    "collapsed": false
   },
   "outputs": [
    {
     "ename": "NameError",
     "evalue": "name 'new_method' is not defined",
     "output_type": "error",
     "traceback": [
      "\u001b[0;31m---------------------------------------------------------------------------\u001b[0m",
      "\u001b[0;31mNameError\u001b[0m                                 Traceback (most recent call last)",
      "\u001b[0;32m<ipython-input-1-9564a9a57718>\u001b[0m in \u001b[0;36m<module>\u001b[0;34m()\u001b[0m\n\u001b[0;32m----> 1\u001b[0;31m \u001b[0;34m@\u001b[0m\u001b[0mnew_method\u001b[0m\u001b[0;34m\u001b[0m\u001b[0m\n\u001b[0m\u001b[1;32m      2\u001b[0m \u001b[0;32mdef\u001b[0m \u001b[0mline\u001b[0m\u001b[0;34m(\u001b[0m\u001b[0mcls\u001b[0m\u001b[0;34m,\u001b[0m \u001b[0mname\u001b[0m\u001b[0;34m,\u001b[0m \u001b[0mf\u001b[0m\u001b[0;34m,\u001b[0m \u001b[0mdisplay\u001b[0m\u001b[0;34m=\u001b[0m\u001b[0;34m'HTML'\u001b[0m\u001b[0;34m,\u001b[0m \u001b[0mlang\u001b[0m\u001b[0;34m=\u001b[0m\u001b[0;32mNone\u001b[0m\u001b[0;34m)\u001b[0m\u001b[0;34m:\u001b[0m\u001b[0;34m\u001b[0m\u001b[0m\n\u001b[1;32m      3\u001b[0m     \u001b[0;32mreturn\u001b[0m \u001b[0mpartial\u001b[0m\u001b[0;34m(\u001b[0m\u001b[0mcls\u001b[0m\u001b[0;34m,\u001b[0m \u001b[0mname\u001b[0m\u001b[0;34m,\u001b[0m \u001b[0mmagic_kind\u001b[0m\u001b[0;34m=\u001b[0m\u001b[0;34m'line'\u001b[0m\u001b[0;34m,\u001b[0m \u001b[0mdisplay\u001b[0m\u001b[0;34m=\u001b[0m\u001b[0mdisplay\u001b[0m\u001b[0;34m,\u001b[0m \u001b[0mlang\u001b[0m\u001b[0;34m=\u001b[0m\u001b[0mlang\u001b[0m\u001b[0;34m)\u001b[0m\u001b[0;34m(\u001b[0m\u001b[0mf\u001b[0m\u001b[0;34m)\u001b[0m\u001b[0;34m\u001b[0m\u001b[0m\n",
      "\u001b[0;31mNameError\u001b[0m: name 'new_method' is not defined"
     ]
    }
   ],
   "source": [
    "@new_method\n",
    "def line(cls, name, f, display='HTML', lang=None):\n",
    "    return partial(cls, name, magic_kind='line', display=display, lang=lang)(f)        "
   ]
  },
  {
   "cell_type": "code",
   "execution_count": 2,
   "metadata": {
    "collapsed": false
   },
   "outputs": [
    {
     "ename": "NameError",
     "evalue": "name 'new_method' is not defined",
     "output_type": "error",
     "traceback": [
      "\u001b[0;31m---------------------------------------------------------------------------\u001b[0m",
      "\u001b[0;31mNameError\u001b[0m                                 Traceback (most recent call last)",
      "\u001b[0;32m<ipython-input-2-45ef5b9a20e7>\u001b[0m in \u001b[0;36m<module>\u001b[0;34m()\u001b[0m\n\u001b[0;32m----> 1\u001b[0;31m \u001b[0;34m@\u001b[0m\u001b[0mnew_method\u001b[0m\u001b[0;34m\u001b[0m\u001b[0m\n\u001b[0m\u001b[1;32m      2\u001b[0m \u001b[0;32mdef\u001b[0m \u001b[0mcell\u001b[0m\u001b[0;34m(\u001b[0m\u001b[0mcls\u001b[0m\u001b[0;34m,\u001b[0m \u001b[0mname\u001b[0m\u001b[0;34m,\u001b[0m \u001b[0mf\u001b[0m\u001b[0;34m,\u001b[0m \u001b[0mdisplay\u001b[0m\u001b[0;34m=\u001b[0m\u001b[0;34m'Markdown'\u001b[0m\u001b[0;34m,\u001b[0m \u001b[0mlang\u001b[0m\u001b[0;34m=\u001b[0m\u001b[0;32mNone\u001b[0m\u001b[0;34m)\u001b[0m\u001b[0;34m:\u001b[0m\u001b[0;34m\u001b[0m\u001b[0m\n\u001b[1;32m      3\u001b[0m     \u001b[0;32mreturn\u001b[0m \u001b[0mpartial\u001b[0m\u001b[0;34m(\u001b[0m\u001b[0mcls\u001b[0m\u001b[0;34m,\u001b[0m \u001b[0mname\u001b[0m\u001b[0;34m,\u001b[0m \u001b[0mdisplay\u001b[0m\u001b[0;34m=\u001b[0m\u001b[0mdisplay\u001b[0m\u001b[0;34m,\u001b[0m \u001b[0mlang\u001b[0m\u001b[0;34m=\u001b[0m\u001b[0mlang\u001b[0m\u001b[0;34m)\u001b[0m\u001b[0;34m(\u001b[0m\u001b[0mf\u001b[0m\u001b[0;34m)\u001b[0m\u001b[0;34m\u001b[0m\u001b[0m\n",
      "\u001b[0;31mNameError\u001b[0m: name 'new_method' is not defined"
     ]
    }
   ],
   "source": [
    "@new_method\n",
    "def cell(cls, name, f, display='Markdown', lang=None):\n",
    "    return partial(cls, name, display=display, lang=lang)(f)"
   ]
  },
  {
   "cell_type": "code",
   "execution_count": 105,
   "metadata": {
    "collapsed": false
   },
   "outputs": [],
   "source": [
    "@new_method\n",
    "def show(cls, disp, val):\n",
    "    if disp:\n",
    "        if isinstance(disp, str):\n",
    "            return display.display(getattr(display, disp)(val))\n",
    "        elif isinstance(disp, Callable):\n",
    "            return display.display(disp(val))"
   ]
  }
 ],
 "metadata": {
  "anaconda-cloud": {},
  "kernelspec": {
   "display_name": "Python [Root]",
   "language": "python",
   "name": "Python [Root]"
  },
  "language_info": {
   "codemirror_mode": {
    "name": "ipython",
    "version": 3
   },
   "file_extension": ".py",
   "mimetype": "text/x-python",
   "name": "python",
   "nbconvert_exporter": "python",
   "pygments_lexer": "ipython3",
   "version": "3.5.1"
  },
  "widgets": {
   "state": {},
   "version": "1.1.0"
  }
 },
 "nbformat": 4,
 "nbformat_minor": 0
}
