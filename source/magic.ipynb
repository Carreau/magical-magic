{
 "cells": [
  {
   "cell_type": "code",
   "execution_count": 2,
   "metadata": {
    "collapsed": true
   },
   "outputs": [],
   "source": [
    "from IPython import display, get_ipython\n",
    "from IPython.core import magic_arguments\n",
    "from IPython.core.magic import (\n",
    "    Magics,\n",
    "    magics_class,\n",
    "    line_cell_magic,\n",
    ")\n",
    "from typing import Callable\n",
    "from toolz.curried import *"
   ]
  },
  {
   "cell_type": "markdown",
   "metadata": {},
   "source": [
    "> Evaluate arbitrary variables that can be added to the global context by defining a name."
   ]
  },
  {
   "cell_type": "code",
   "execution_count": 3,
   "metadata": {
    "collapsed": false
   },
   "outputs": [],
   "source": [
    "@magic_arguments.magic_arguments()\n",
    "@magic_arguments.argument(\n",
    "    \"name\",\n",
    "    default=None,\n",
    "    nargs=\"?\",\n",
    "    help=\"\"\"Name of local variable to set to parsed value\"\"\",\n",
    ")\n",
    "@magic_arguments.argument(\n",
    "    \"-d\",\n",
    "    \"--display\",\n",
    "    default='Markdown',\n",
    "    nargs=\"?\",\n",
    "    help=\"\"\"An IPython.display method.\"\"\"\n",
    ")\n",
    "def magical_cell(line, cell, f=identity, **kwargs):\n",
    "    args = magic_arguments.parse_argstring(magical_cell, line.strip())\n",
    "    for key, value in kwargs.items():\n",
    "        # Set the values if they are not args\n",
    "        if not getattr(args, key) or (key in 'display' and args.display=='Markdown'):\n",
    "            setattr(args, key, value)\n",
    "    retval = f(cell)\n",
    "    \n",
    "    if args.name:\n",
    "        if '.' in args.name:\n",
    "            path = args.name.split('.')\n",
    "            var = get_ipython().user_ns[path[0]]\n",
    "            setattr( reduce(\n",
    "                lambda x, y: getattr(x,y),\n",
    "                path[1:-1], \n",
    "                var\n",
    "            ), path[-1], retval)\n",
    "        else:   \n",
    "            get_ipython().user_ns[args.name] = retval\n",
    "    \n",
    "    if args.display:\n",
    "        if isinstance(args.display, str):\n",
    "            return display.display(getattr(display, args.display)(retval))\n",
    "        elif isinstance(args.display, Callable):\n",
    "            return args.display(retval)"
   ]
  },
  {
   "cell_type": "code",
   "execution_count": 4,
   "metadata": {
    "collapsed": false
   },
   "outputs": [],
   "source": [
    "class magical():\n",
    "    def __init__(self, magic_kind=magical_cell):\n",
    "        self._magic_kind = magic_kind\n",
    "    \n",
    "    @curry\n",
    "    def __call__(self, key, f, lang=None, **kwargs):\n",
    "        name = self._magic_kind.__name__.split('_')[1]\n",
    "        get_ipython().register_magic_function(\n",
    "            partial(self._magic_kind, f=f, **kwargs),\n",
    "            magic_kind = name,\n",
    "            magic_name = key,\n",
    "        )\n",
    "        if lang:\n",
    "            # Syntax highlighting\n",
    "            pipe(\"\"\"require([\n",
    "                        \"notebook/js/codecell\",\n",
    "                        \"codemirror/mode/{0}/{0}\"\n",
    "                    ],\n",
    "                    function(cc){{\n",
    "                        cc.CodeCell.options_default.highlight_modes.magic_{1} = {{\n",
    "                            reg: [\"^%%{1}\"]\n",
    "                        }};\n",
    "                    }}\n",
    "                );\n",
    "                \"\"\".format(lang, name), \n",
    "                 display.Javascript, display.display,\n",
    "            )"
   ]
  },
  {
   "cell_type": "markdown",
   "metadata": {},
   "source": [
    "> Still don't know how I will use this."
   ]
  },
  {
   "cell_type": "code",
   "execution_count": 5,
   "metadata": {
    "collapsed": false
   },
   "outputs": [],
   "source": [
    "def magical_line(line, f=identity, **kwargs):    \n",
    "    \"\"\"I don't understand how I would use this yet.\"\"\"\n",
    "    if 'assign' in kwargs:\n",
    "        if kwargs['assign']:\n",
    "            line, cell = line.strip().split(' ',1)\n",
    "    else:\n",
    "        line, cell = ['', line]\n",
    "    return magical_cell(line, cell, f, **kwargs)"
   ]
  },
  {
   "cell_type": "code",
   "execution_count": 6,
   "metadata": {
    "collapsed": false
   },
   "outputs": [],
   "source": [
    "class Forever(object):\n",
    "    cell = staticmethod(magical(magical_cell))\n",
    "    line = staticmethod(magical(magical_line))"
   ]
  }
 ],
 "metadata": {
  "anaconda-cloud": {},
  "kernelspec": {
   "display_name": "Python [Root]",
   "language": "python",
   "name": "Python [Root]"
  },
  "language_info": {
   "codemirror_mode": {
    "name": "ipython",
    "version": 3
   },
   "file_extension": ".py",
   "mimetype": "text/x-python",
   "name": "python",
   "nbconvert_exporter": "python",
   "pygments_lexer": "ipython3",
   "version": "3.5.1"
  },
  "widgets": {
   "state": {
    "287f6ed30ed54f72b967d452de262ee6": {
     "views": []
    },
    "2b9350c61d8246e5bc7392f3f9614b84": {
     "views": []
    },
    "500756517ea041de9868c197f1cfccce": {
     "views": []
    },
    "6313d77e522a4bb0aa713fe3ade2e7a3": {
     "views": []
    }
   },
   "version": "1.1.0"
  }
 },
 "nbformat": 4,
 "nbformat_minor": 0
}
