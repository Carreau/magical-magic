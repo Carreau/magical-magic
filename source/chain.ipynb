{
 "cells": [
  {
   "cell_type": "markdown",
   "metadata": {},
   "source": [
    "It should be easier to construct complicated functions.  Python has named a lot of things, and\n",
    "large scale adoption of certain libraries make names meaningful.  `Chain` is inspired by `pytoolz`\n",
    "and `underscorejs`.  The [`pytoolz` documentation does a fantastic describing functional programming](toolz.readthedocs.io).\n",
    "\n",
    "There are a few functional programming tools in Python ecosystem.  I would up breaking them \n",
    "very quickly after trying them __Or__ the didn't work in the Jupyter notebook.\n",
    "\n",
    "A `Chain` is efficient for prototyping and scaling complicated actions.  \n",
    "\n",
    "A Chain class\n",
    "\n",
    "* composes functions.  `Chain` must be explicitly computed using `value` or `>`\n",
    "* has a special attribute `value`\n",
    "* a `copy` method\n",
    "* overloads `__or__` and `__gt__`\n",
    "    * Provides semi-functional syntax for evaluation"
   ]
  },
  {
   "cell_type": "markdown",
   "metadata": {},
   "source": [
    "The only required import is `toolz` from pypi"
   ]
  },
  {
   "cell_type": "code",
   "execution_count": 1,
   "metadata": {
    "collapsed": false
   },
   "outputs": [],
   "source": [
    "from class_maker import method\n",
    "import builtins\n",
    "import toolz.curried\n",
    "from toolz.curried import *\n",
    "from types import MethodType\n",
    "from typing import Callable"
   ]
  },
  {
   "cell_type": "code",
   "execution_count": 10,
   "metadata": {
    "collapsed": false
   },
   "outputs": [],
   "source": [
    "class Chain(object): \n",
    "    _imports = [toolz.curried, builtins]\n",
    "    \n",
    "new_method = method(Chain)"
   ]
  },
  {
   "cell_type": "code",
   "execution_count": 17,
   "metadata": {
    "collapsed": false
   },
   "outputs": [],
   "source": [
    "@new_method\n",
    "def __init__(\n",
    "    self,\n",
    "    *args, **kwargs\n",
    "):\n",
    "    # A function to extract attributes from a module.\n",
    "    module_methods = lambda module: pipe(module, dir, filter(\n",
    "            lambda x: not x.startswith('_')\n",
    "        ), map(\n",
    "            partial(getattr, module)\n",
    "        ), list)\n",
    "    \n",
    "    # Create a list of attributes that can be added to chain\n",
    "    # It would be cool to have some code prediction.\n",
    "    self._imports = pipe(self._imports, map(module_methods), concat, filter(lambda x: hasattr(x,'__name__')),list)\n",
    "    \n",
    "    # Tokens record function, arguments, and keywork arguments.\n",
    "    self._tokens = []\n",
    "    \n",
    "    # Default context to evaluate the chain.\n",
    "    self._args = args\n",
    "    self._kwargs = kwargs"
   ]
  },
  {
   "cell_type": "markdown",
   "metadata": {},
   "source": [
    "> Method to compose a function from the tokens that \n",
    "have been created in the chain"
   ]
  },
  {
   "cell_type": "code",
   "execution_count": 18,
   "metadata": {
    "collapsed": true
   },
   "outputs": [],
   "source": [
    "@new_method\n",
    "def _compose(self):\n",
    "    \"\"\"From the tokens, compose a function that can be reused.\n",
    "    \"\"\"\n",
    "    return compose(\n",
    "        *pipe(\n",
    "            self._tokens if self._tokens else [[identity, [], {}]],\n",
    "            reversed,\n",
    "            map(\n",
    "                lambda e: partial(\n",
    "                    e[0], *e[1], **e[2]\n",
    "                ) if e[1] or e[2] else e[0],\n",
    "            )\n",
    "        )\n",
    "    )"
   ]
  },
  {
   "cell_type": "markdown",
   "metadata": {},
   "source": [
    "> `value` composes the function and then evaluate it with either \n",
    "the default context or a new set of arguments to evaluate with the same composition."
   ]
  },
  {
   "cell_type": "code",
   "execution_count": 19,
   "metadata": {
    "collapsed": false
   },
   "outputs": [],
   "source": [
    "@new_method\n",
    "def value(self, *args, **kwargs):\n",
    "    \"\"\"Compose and evaluate the function.  If no args or kwargs are provided\n",
    "    then the initialized context is used.\n",
    "    \"\"\"\n",
    "    fn = self._compose()\n",
    "    if args or kwargs:\n",
    "        return fn(*args, **kwargs)\n",
    "    if self._kwargs: \n",
    "        return fn(*self._args, **self._kwargs)\n",
    "    return fn(*self._args)"
   ]
  },
  {
   "cell_type": "markdown",
   "metadata": {},
   "source": [
    "> `__call__` does not execute anything it just records args \n",
    "and kwargs that would be passed to the function."
   ]
  },
  {
   "cell_type": "code",
   "execution_count": 24,
   "metadata": {
    "collapsed": true
   },
   "outputs": [],
   "source": [
    "@new_method\n",
    "def __call__(self, *args, **kwargs):\n",
    "    self._tokens[-1][1] = args\n",
    "    self._tokens[-1][2] = kwargs\n",
    "    return self"
   ]
  },
  {
   "cell_type": "code",
   "execution_count": 25,
   "metadata": {
    "collapsed": true
   },
   "outputs": [],
   "source": [
    "@new_method\n",
    "def _getter(self, attr):\n",
    "    \"\"\"Extract a function from the imports based on a name.\n",
    "    \"\"\"\n",
    "    return pipe(self._imports, filter(lambda x: x.__name__ == attr), first)"
   ]
  },
  {
   "cell_type": "markdown",
   "metadata": {},
   "source": [
    "```python\n",
    "Chain([1,2,3,4]).reversed().str()\n",
    "```"
   ]
  },
  {
   "cell_type": "code",
   "execution_count": 30,
   "metadata": {
    "collapsed": true
   },
   "outputs": [],
   "source": [
    "@new_method\n",
    "def __getattr__(self, attr):\n",
    "    \"\"\"Add a token for an attribute in _imports.\n",
    "    \"\"\"\n",
    "    self._tokens.append([self._getter(attr), [], {}])\n",
    "    return self"
   ]
  },
  {
   "cell_type": "markdown",
   "metadata": {},
   "source": [
    "> A mighty flexible way to append any function the chain."
   ]
  },
  {
   "cell_type": "markdown",
   "metadata": {},
   "source": [
    "```python\n",
    "Chain([1,2,3,4])[reversed][str]\n",
    "```"
   ]
  },
  {
   "cell_type": "code",
   "execution_count": 127,
   "metadata": {
    "collapsed": true
   },
   "outputs": [],
   "source": [
    "@new_method\n",
    "def __getitem__(self, item):\n",
    "    self._tokens.append([item, (), {}])\n",
    "    return self"
   ]
  },
  {
   "cell_type": "markdown",
   "metadata": {},
   "source": [
    "> A `Chain` is a `Chain` until `value` or `|`.  "
   ]
  },
  {
   "cell_type": "markdown",
   "metadata": {},
   "source": [
    "> Evaluate when the repr is called."
   ]
  },
  {
   "cell_type": "code",
   "execution_count": 129,
   "metadata": {
    "collapsed": true
   },
   "outputs": [],
   "source": [
    "@new_method\n",
    "def __repr__(self):\n",
    "    return self.value().__str__()"
   ]
  },
  {
   "cell_type": "markdown",
   "metadata": {},
   "source": [
    "> Copy the state of the chain and return a new one."
   ]
  },
  {
   "cell_type": "code",
   "execution_count": 130,
   "metadata": {
    "collapsed": true
   },
   "outputs": [],
   "source": [
    "@new_method\n",
    "def copy(self):\n",
    "    chain = Chain(*self._args, **self._kwargs)\n",
    "    chain._imports = self._imports[:]\n",
    "    chain._tokens = self._tokens[:]\n",
    "    return chain   "
   ]
  },
  {
   "cell_type": "markdown",
   "metadata": {},
   "source": [
    "> Some sweet ol' syntactic sugar that looks like functional programming.\n",
    "\n",
    "> `__or__` adds a piping method to a chain.  Any functional can be included in the pipe.\n",
    "\n",
    "> `__or__` is shorthand for a copy and a an append."
   ]
  },
  {
   "cell_type": "code",
   "execution_count": 31,
   "metadata": {
    "collapsed": true
   },
   "outputs": [],
   "source": [
    "@new_method\n",
    "def __or__(self, f):\n",
    "    chain = self.copy()\n",
    "    chain._tokens.append([f, [], {}])\n",
    "    return chain"
   ]
  },
  {
   "cell_type": "markdown",
   "metadata": {},
   "source": [
    "> `__gt__` is shorthand for a copy, append, and a `value` operation."
   ]
  },
  {
   "cell_type": "code",
   "execution_count": 132,
   "metadata": {
    "collapsed": false
   },
   "outputs": [],
   "source": [
    "@new_method\n",
    "def __gt__(self, f):\n",
    "    return self.copy()[f].value()"
   ]
  },
  {
   "cell_type": "markdown",
   "metadata": {},
   "source": [
    "# About the design\n",
    "\n",
    "The goal of `Chain` is rapidly prototype code using powerful modules in the \n",
    "Python ecosystem.  More specifically, this was designed with the intent of \n",
    "creating data rich web applications that may work client or server side.\n",
    "\n",
    "Applications are complex.  Fortunately, `conda` and `pip` provide lower \n",
    "barriers to entry for building complex systems.  With this access, it is \n",
    "possible to write functional code that spans loading through an ETL pipeline\n",
    "to an application.  This workflow was inspired greatly by `toolz` and chainable `d3`\n",
    "expressions.  Choosing these opinions greatly minimizes the need for naming.\n",
    "\n",
    "## Naming\n",
    "\n",
    "Naming takes time and have the potential to confuse others.  The python ecosystem \n",
    "provides a broad corpus to load, transform, model, and visualize data with simple\n",
    "methods to deploy them into applications or scale to other day.\n",
    "\n",
    "I don't want to name stuff.  Also, I want to write code quicker.  Using existing namespaces\n",
    "enhances code prediction while developing in the notebook.\n",
    "\n",
    "## Intent\n",
    "\n",
    "* Design a lightweight class that offers a typographically and functionally compact python syntax.\n",
    "* Maximize screen real estate for impact.  This optimizes copy and paste ability.\n",
    "* Lazy.  Most of this comes from toolz.\n",
    "* Reusability.\n",
    "* Don't create a new grammar.\n",
    "\n",
    "## Advantages\n",
    "\n",
    "* Less decisions to make, better code prediction.\n",
    "* Complex operations can be isolated to a notebook cell\n",
    "* Enhanced copy and pasting abilities.\n",
    "\n",
    "## History\n",
    "\n",
    "1. Design an API that mimics [`chain` from `underscorejs`](http://underscorejs.org/#chain).  This \n",
    "includes the `value` function that evaluates that `chain`.  `Chain` could only use `builtins` and `toolz.curried`.\n",
    "\n",
    "    ```python\n",
    "    Chain([1,2,3]).map(lambda x: x**2).list()\n",
    "    ```\n",
    "    \n",
    "    `value` can take args and kwargs to apply a different context to the functions.\n",
    "\n",
    "    ```python\n",
    "    c = Chain([1,2,3]).map(lambda x: x**2).list()\n",
    "    c.value([3,5,7])\n",
    "    ```\n",
    "\n",
    "2. Extend the API to functions in the global namespace using the `__getitem__` method.  Chaining functions\n",
    "using the attribute created a nice typographic layout.\n",
    "\n",
    "    ```python\n",
    "    Chain([1,2,3])[\n",
    "        map(lambda x: x**2)\n",
    "    ].list()\n",
    "    ```\n",
    "    \n",
    "3. Add syntactic sugar to extend and evaluate a chain.  \n",
    "\n",
    "    __extend a chain__ `Chain([1,2,3]) | map(lambda x: x**2) | list`\n",
    "    \n",
    "    __evaluate a chain__ `Chain([1,2,3]) | map(lambda x: x**2) > list`"
   ]
  },
  {
   "cell_type": "code",
   "execution_count": null,
   "metadata": {
    "collapsed": true
   },
   "outputs": [],
   "source": []
  }
 ],
 "metadata": {
  "anaconda-cloud": {},
  "kernelspec": {
   "display_name": "Python 3",
   "language": "python",
   "name": "python3"
  },
  "language_info": {
   "codemirror_mode": {
    "name": "ipython",
    "version": 3
   },
   "file_extension": ".py",
   "mimetype": "text/x-python",
   "name": "python",
   "nbconvert_exporter": "python",
   "pygments_lexer": "ipython3",
   "version": "3.5.2"
  },
  "widgets": {
   "state": {},
   "version": "1.1.0"
  }
 },
 "nbformat": 4,
 "nbformat_minor": 0
}
