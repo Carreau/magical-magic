{
 "cells": [
  {
   "cell_type": "markdown",
   "metadata": {},
   "source": [
    "It should be easier to construct complicated functions.  Python has named a lot of things, and\n",
    "large scale adoption of certain libraries make names meaningful.  `Chain` is inspired by `pytoolz`\n",
    "and `underscorejs`.  The `pytoolz` documentation does a fantastic describing functional programming.\n",
    "\n",
    "There are a few functional programming tools in Python ecosystem.  I would up breaking them \n",
    "very quickly after trying them __Or__ the didn't work in the Jupyter notebook.\n",
    "\n",
    "A `Chain` is efficient for prototyping and scaling complicated actions.  \n",
    "\n",
    "A Chain class\n",
    "\n",
    "* composes functions.  `Chain` must be explicitly computed using `value` or `>`\n",
    "* has a special attribute `value`\n",
    "* overloads `__or__` and `__gt__`\n",
    "    * Provides semi-functional syntax for evaluation"
   ]
  },
  {
   "cell_type": "markdown",
   "metadata": {},
   "source": [
    "The only required import is `toolz` from pypi"
   ]
  },
  {
   "cell_type": "code",
   "execution_count": 103,
   "metadata": {
    "collapsed": false
   },
   "outputs": [],
   "source": [
    "import builtins\n",
    "import toolz.curried\n",
    "from toolz.curried import *\n",
    "from types import MethodType\n",
    "from typing import Callable"
   ]
  },
  {
   "cell_type": "code",
   "execution_count": 62,
   "metadata": {
    "collapsed": true
   },
   "outputs": [],
   "source": [
    "\"\"\"Compose a function by chaining.\n",
    "\n",
    "Chain([1,2,]).map(lambda x: x*2).list().value()\n",
    "\n",
    "\"\"\"\n",
    "class Chain(object):\n",
    "    _imports = [\n",
    "        builtins,\n",
    "        toolz.curried,\n",
    "    ]"
   ]
  },
  {
   "cell_type": "code",
   "execution_count": 90,
   "metadata": {
    "collapsed": true
   },
   "outputs": [],
   "source": [
    "new_method = method(Chain)"
   ]
  },
  {
   "cell_type": "code",
   "execution_count": 91,
   "metadata": {
    "collapsed": false
   },
   "outputs": [],
   "source": [
    "@new_method\n",
    "def _getter(self, key):\n",
    "    \"\"\"\n",
    "    \"\"\"\n",
    "    return pipe(\n",
    "        self._imports,\n",
    "        reversed, \n",
    "        map(\n",
    "            lambda imp: getattr(imp, key) if hasattr(imp, key) else None,\n",
    "        ),\n",
    "        filter(bool),\n",
    "        first, \n",
    "    )"
   ]
  },
  {
   "cell_type": "code",
   "execution_count": 92,
   "metadata": {
    "collapsed": false
   },
   "outputs": [],
   "source": [
    "@new_method\n",
    "def __init__(\n",
    "    self,\n",
    "    *args, **kwargs\n",
    "):\n",
    "    \"\"\"Initialize the Chain method.  Include a context to evaluate the function one.\n",
    "    \"\"\"\n",
    "    pipe(\n",
    "        self._imports, dir, concat, unique, filter(\n",
    "            complement(lambda x: x[0] != '_')\n",
    "        ), map(\n",
    "            lambda x: setattr(self, x, self._getter)\n",
    "        ), list\n",
    "    )\n",
    "    self._tokens = []\n",
    "    self._args = args\n",
    "    self._kwargs = kwargs"
   ]
  },
  {
   "cell_type": "markdown",
   "metadata": {},
   "source": [
    "> Method to compose a function from the tokens that \n",
    "have been created in the chain"
   ]
  },
  {
   "cell_type": "code",
   "execution_count": 93,
   "metadata": {
    "collapsed": true
   },
   "outputs": [],
   "source": [
    "@new_method\n",
    "def _compose(self):\n",
    "    return compose(\n",
    "        *pipe(\n",
    "            self._tokens if self._tokens else [[identity, [], {}]],\n",
    "            reversed,\n",
    "            map(\n",
    "                lambda e: partial(\n",
    "                    e[0], *e[1], **e[2]\n",
    "                ) if e[1] or e[2] else e[0],\n",
    "            )\n",
    "        ),\n",
    "    )"
   ]
  },
  {
   "cell_type": "markdown",
   "metadata": {},
   "source": [
    "> `value` composes the function and then evaluate it with either \n",
    "the default context or a new set of arguments to evaluate with the same composition."
   ]
  },
  {
   "cell_type": "code",
   "execution_count": 94,
   "metadata": {
    "collapsed": false
   },
   "outputs": [],
   "source": [
    "@new_method\n",
    "def value(self, *args, **kwargs):\n",
    "    fn = self._compose()\n",
    "    if args or kwargs:\n",
    "        return fn(*args, **kwargs)\n",
    "    if self._kwargs: \n",
    "        return fn(*self._args, **self._kwargs)\n",
    "    return fn(*self._args)"
   ]
  },
  {
   "cell_type": "markdown",
   "metadata": {},
   "source": [
    "> Get a callable with a string alias.  last package with \n",
    "the attribute\n",
    "\n",
    "```python\n",
    "Chain()._getter('map')\n",
    "```"
   ]
  },
  {
   "cell_type": "markdown",
   "metadata": {},
   "source": [
    "> Bah, the attribute is just a string.  What function does that refer to in the imports?"
   ]
  },
  {
   "cell_type": "code",
   "execution_count": 95,
   "metadata": {
    "collapsed": true
   },
   "outputs": [],
   "source": [
    "@new_method\n",
    "def __getattr__(self, attr):\n",
    "    self._tokens.append([self._getter(attr), [], {}])\n",
    "    return self"
   ]
  },
  {
   "cell_type": "markdown",
   "metadata": {},
   "source": [
    "> A mighty flexible way to append any function the chain."
   ]
  },
  {
   "cell_type": "code",
   "execution_count": 96,
   "metadata": {
    "collapsed": true
   },
   "outputs": [],
   "source": [
    "@new_method\n",
    "def __getitem__(self, item):\n",
    "    self._tokens.append([item, (), {}])\n",
    "    return self"
   ]
  },
  {
   "cell_type": "markdown",
   "metadata": {},
   "source": [
    "> `__call__` does not execute anything it just records args \n",
    "and kwargs that would be passed to the function."
   ]
  },
  {
   "cell_type": "code",
   "execution_count": 97,
   "metadata": {
    "collapsed": true
   },
   "outputs": [],
   "source": [
    "@new_method\n",
    "def __call__(self, *args, **kwargs):\n",
    "    self._tokens[-1][1] = args\n",
    "    self._tokens[-1][2] = kwargs\n",
    "    return self"
   ]
  },
  {
   "cell_type": "markdown",
   "metadata": {},
   "source": [
    "> A `Chain` is a `Chain` until `value` or `|`.  \n",
    "\n",
    "> If a `Chain` is printed, and it is `eager` (by default) then the composition\n",
    "will be executed if there is a context."
   ]
  },
  {
   "cell_type": "code",
   "execution_count": 98,
   "metadata": {
    "collapsed": true
   },
   "outputs": [],
   "source": [
    "@new_method\n",
    "def __repr__(self):\n",
    "    return self.value().__str__()"
   ]
  },
  {
   "cell_type": "markdown",
   "metadata": {},
   "source": [
    "> Copy the state of the chain and return a new one."
   ]
  },
  {
   "cell_type": "code",
   "execution_count": 99,
   "metadata": {
    "collapsed": true
   },
   "outputs": [],
   "source": [
    "@new_method\n",
    "def copy(self):\n",
    "    chain = Chain(*self._args, **self._kwargs)\n",
    "    chain._imports = self._imports[:]\n",
    "    chain._tokens = self._tokens[:]\n",
    "    return chain   "
   ]
  },
  {
   "cell_type": "markdown",
   "metadata": {},
   "source": [
    "> Some sweet ol' syntactic sugar that looks like functional programming.\n",
    "\n",
    "> `__or__` adds a piping method to a chain.  Any functional can be included in the pipe.\n",
    "\n",
    "> `__or__` is shorthand for a copy and a an append."
   ]
  },
  {
   "cell_type": "code",
   "execution_count": 100,
   "metadata": {
    "collapsed": true
   },
   "outputs": [],
   "source": [
    "@new_method\n",
    "def __or__(self, f):\n",
    "    chain = self.copy()\n",
    "    chain._tokens.append([f, [], {}])\n",
    "    return chain"
   ]
  },
  {
   "cell_type": "markdown",
   "metadata": {},
   "source": [
    "> `__gt__` is shorthand for a copy, append, and a `value` operation."
   ]
  },
  {
   "cell_type": "code",
   "execution_count": 101,
   "metadata": {
    "collapsed": true
   },
   "outputs": [],
   "source": [
    "@new_method\n",
    "def __gt__(self, f):\n",
    "    return self.copy()[f].value()"
   ]
  },
  {
   "cell_type": "code",
   "execution_count": null,
   "metadata": {
    "collapsed": true
   },
   "outputs": [],
   "source": []
  }
 ],
 "metadata": {
  "anaconda-cloud": {},
  "kernelspec": {
   "display_name": "Python [Root]",
   "language": "python",
   "name": "Python [Root]"
  },
  "language_info": {
   "codemirror_mode": {
    "name": "ipython",
    "version": 3
   },
   "file_extension": ".py",
   "mimetype": "text/x-python",
   "name": "python",
   "nbconvert_exporter": "python",
   "pygments_lexer": "ipython3",
   "version": "3.5.1"
  },
  "widgets": {
   "state": {},
   "version": "1.1.0"
  }
 },
 "nbformat": 4,
 "nbformat_minor": 0
}
