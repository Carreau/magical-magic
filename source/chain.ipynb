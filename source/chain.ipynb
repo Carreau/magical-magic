{
 "cells": [
  {
   "cell_type": "markdown",
   "metadata": {},
   "source": [
    "It should be easier to construct complicated functions.  Python has named a lot of things, and\n",
    "large scale adoption of certain libraries make names meaningful.  `Chain` is inspired by `pytoolz`\n",
    "and `underscorejs`.  The [`pytoolz` documentation does a fantastic describing functional programming](toolz.readthedocs.io).\n",
    "\n",
    "There are a few functional programming tools in Python ecosystem.  I would up breaking them \n",
    "very quickly after trying them __Or__ the didn't work in the Jupyter notebook.\n",
    "\n",
    "A `Chain` is efficient for prototyping and scaling complicated actions.  \n",
    "\n",
    "A Chain class\n",
    "\n",
    "* composes functions.  `Chain` must be explicitly computed using `value` or `>`\n",
    "* has a special attribute `value`\n",
    "* a `copy` method\n",
    "* overloads `__or__` and `__gt__`\n",
    "    * Provides semi-functional syntax for evaluation"
   ]
  },
  {
   "cell_type": "markdown",
   "metadata": {},
   "source": [
    "The only required import is `toolz` from pypi"
   ]
  },
  {
   "cell_type": "code",
   "execution_count": 413,
   "metadata": {
    "collapsed": false
   },
   "outputs": [],
   "source": [
    "from class_maker import method\n",
    "import builtins\n",
    "import operator\n",
    "import toolz.curried\n",
    "from toolz.curried import (\n",
    "    compose, filter, first, map, partial, pipe, concat\n",
    ")\n",
    "from typing import Any, Callable\n",
    "\n",
    "__all__ = ['Chain', '_X', 'this',]"
   ]
  },
  {
   "cell_type": "code",
   "execution_count": 403,
   "metadata": {
    "collapsed": false
   },
   "outputs": [],
   "source": [
    "class Chain(object): \n",
    "    _imports = [toolz.curried, operator, builtins]\n",
    "    \n",
    "    # compose goes here because it is in the namespace already\n",
    "    @property\n",
    "    def compose(self)->Callable:\n",
    "        return self._composer(self._tokens)\n",
    "    \n",
    "new_method = method(Chain)"
   ]
  },
  {
   "cell_type": "markdown",
   "metadata": {},
   "source": [
    "```python\n",
    "Chain([1,2]).map(lambda x: x**2).list().value()\n",
    "```"
   ]
  },
  {
   "cell_type": "code",
   "execution_count": 404,
   "metadata": {
    "collapsed": true
   },
   "outputs": [],
   "source": [
    "def module_methods(module)->list: \n",
    "    return pipe(module, dir, filter(\n",
    "            lambda x: not x.startswith('_')\n",
    "        ), map(\n",
    "            partial(getattr, module)\n",
    "        ), list)"
   ]
  },
  {
   "cell_type": "code",
   "execution_count": 405,
   "metadata": {
    "collapsed": true
   },
   "outputs": [],
   "source": [
    "def composer(tokens)->Callable: \n",
    "    return compose(*pipe(tokens, reversed, filter(\n",
    "            compose(bool, first,)\n",
    "        ), map(\n",
    "            lambda t: partial(t[0], *t[1], **t[2]) if t[1] or t[2] else t[0]\n",
    "        ), list))"
   ]
  },
  {
   "cell_type": "code",
   "execution_count": 406,
   "metadata": {
    "collapsed": false
   },
   "outputs": [],
   "source": [
    "@new_method\n",
    "def __init__(\n",
    "    self,\n",
    "    *args, **kwargs\n",
    "):  \n",
    "    # An object with aliases to functions.\n",
    "    self._getter = pipe(\n",
    "        self._imports, reversed, map(module_methods), \n",
    "        concat, filter(lambda x: hasattr(x,'__name__')), \n",
    "        map(lambda x: (x.__name__, x)), list, dict\n",
    "    ).get\n",
    "    \n",
    "    # Tokens record function, arguments, and keywork arguments.\n",
    "    self._tokens = []\n",
    "    \n",
    "    # Default context to evaluate the chain.\n",
    "    self._args, self._kwargs = args, kwargs\n",
    "    \n",
    "    # default composer\n",
    "    self._composer = composer"
   ]
  },
  {
   "cell_type": "markdown",
   "metadata": {},
   "source": [
    "> `value` composes the function and then evaluate it with either \n",
    "the default context or a new set of arguments to evaluate with the same composition."
   ]
  },
  {
   "cell_type": "code",
   "execution_count": 408,
   "metadata": {
    "collapsed": false
   },
   "outputs": [],
   "source": [
    "@new_method\n",
    "def value(self, *args, **kwargs)->[Any, None]:\n",
    "    \"\"\"Compose and evaluate the function.  If no args or kwargs are provided\n",
    "    then the initialized context is used.\n",
    "    \"\"\"\n",
    "    fn = self.compose\n",
    "    # If any new arguments have been supplied then use them\n",
    "    if args or kwargs: return fn(*args, **kwargs)\n",
    "    # If there are default kwargs\n",
    "    if self._kwargs:return fn(*self._args, **self._kwargs)\n",
    "    # If there is a context\n",
    "    if self._args: return fn(*self._args)\n",
    "    return None"
   ]
  },
  {
   "cell_type": "markdown",
   "metadata": {},
   "source": [
    "> `__call__` does not execute anything it just records args \n",
    "and kwargs that would be passed to the function."
   ]
  },
  {
   "cell_type": "code",
   "execution_count": 409,
   "metadata": {
    "collapsed": true
   },
   "outputs": [],
   "source": [
    "@new_method\n",
    "def __call__(self, *args, **kwargs)->Chain:\n",
    "    \"\"\"Add args and kwargs to the tokens.\n",
    "    \"\"\"\n",
    "    self._tokens[-1][1:3] = args, kwargs\n",
    "    return self"
   ]
  },
  {
   "cell_type": "markdown",
   "metadata": {},
   "source": [
    "```python\n",
    "Chain([1,2,3,4]).reversed().str()\n",
    "```"
   ]
  },
  {
   "cell_type": "code",
   "execution_count": 395,
   "metadata": {
    "collapsed": false
   },
   "outputs": [],
   "source": [
    "@new_method\n",
    "def __getattr__(self, attr)->Chain:\n",
    "    \"\"\"Add a token for an attribute in _imports.\n",
    "    \"\"\"\n",
    "    self._tokens.append([self._getter(attr), [], {}])\n",
    "    return self"
   ]
  },
  {
   "cell_type": "markdown",
   "metadata": {},
   "source": [
    "> A mighty flexible way to append any function the chain."
   ]
  },
  {
   "cell_type": "markdown",
   "metadata": {},
   "source": [
    "```python\n",
    "Chain([1,2,3,4])[reversed][str]\n",
    "```"
   ]
  },
  {
   "cell_type": "code",
   "execution_count": 392,
   "metadata": {
    "collapsed": true
   },
   "outputs": [],
   "source": [
    "@new_method\n",
    "def __getitem__(self, item)->Chain:\n",
    "    \"\"\"Any function in the item can be tokenized.\n",
    "    \"\"\"\n",
    "    self._tokens.append([item, (), {}])\n",
    "    return self"
   ]
  },
  {
   "cell_type": "markdown",
   "metadata": {},
   "source": [
    "> A `Chain` is a `Chain` until `value` or `>`.  "
   ]
  },
  {
   "cell_type": "markdown",
   "metadata": {},
   "source": [
    "> Evaluate when the repr is called.  Make sure to add a `;` to suppress output if necessary"
   ]
  },
  {
   "cell_type": "code",
   "execution_count": 393,
   "metadata": {
    "collapsed": false
   },
   "outputs": [],
   "source": [
    "@new_method\n",
    "def __repr__(self)->str:\n",
    "    return self.value().__repr__()"
   ]
  },
  {
   "cell_type": "markdown",
   "metadata": {},
   "source": [
    "```\n",
    "XXXXXXXXXXXXXXXXXXXXXXXXXX\n",
    "XXXXXXXChainXXXXXLinkXXXXX\n",
    "XXXXXShorthandXXXXXXXXXXXX\n",
    "XXXXXXXXXXXXXXXXXXXXXXXXXX\n",
    "```"
   ]
  },
  {
   "cell_type": "code",
   "execution_count": 382,
   "metadata": {
    "collapsed": true
   },
   "outputs": [],
   "source": [
    "class _X(Chain):\n",
    "    \"\"\"Shorthand for `Chain` where `_X.f is Chain.value`.  Typographically dense.\n",
    "    \"\"\"\n",
    "    @property\n",
    "    def f(self)->Any:\n",
    "        return self.value"
   ]
  },
  {
   "cell_type": "markdown",
   "metadata": {},
   "source": [
    "> Copy the state of the chain and return a new one."
   ]
  },
  {
   "cell_type": "code",
   "execution_count": 383,
   "metadata": {
    "collapsed": true
   },
   "outputs": [],
   "source": [
    "@new_method\n",
    "def copy(self, klass=None)->Chain:\n",
    "    \"\"\"Create a new instance of the current chain.  Used for \n",
    "    \"\"\"\n",
    "    chain = (klass if klass else self.__class__)(*self._args, **self._kwargs)\n",
    "    chain._imports, chain._tokens = self._imports[:],  self._tokens[:]\n",
    "    return chain   "
   ]
  },
  {
   "cell_type": "markdown",
   "metadata": {},
   "source": [
    "##### Some sweet ol' syntactic sugar that looks like functional programming.\n",
    "\n",
    "> `__or__`\n",
    "\n",
    ">   * adds a piping method to a chain.  Any functional can be included in the pipe.\n",
    ">   * is shorthand for a copy and a an append."
   ]
  },
  {
   "cell_type": "code",
   "execution_count": 384,
   "metadata": {
    "collapsed": false
   },
   "outputs": [],
   "source": [
    "@new_method\n",
    "def __or__(self, f)->Chain:\n",
    "    \"\"\"Extend the current chain.\n",
    "    \"\"\"\n",
    "    chain = self.copy()\n",
    "    chain._tokens.append([f, [], {}])\n",
    "    return chain"
   ]
  },
  {
   "cell_type": "markdown",
   "metadata": {},
   "source": [
    "> `__gt__` is shorthand for a copy, append, and a `value` operation."
   ]
  },
  {
   "cell_type": "code",
   "execution_count": 385,
   "metadata": {
    "collapsed": false
   },
   "outputs": [],
   "source": [
    "@new_method\n",
    "def __gt__(self, f)->Any:\n",
    "    \"\"\"Extend and evaluate the chain.\n",
    "    \"\"\"\n",
    "    if f is compose: return self.compose\n",
    "    return self.__or__(f).value()"
   ]
  },
  {
   "cell_type": "markdown",
   "metadata": {},
   "source": [
    "> `this` is a modified chain that can access items and attributes.\n",
    "\n",
    "> Most frequently, the `f` or `value` must be called as a function closure.\n",
    "\n",
    "```python\n",
    "this().set_index('A').index.values.f\n",
    "this().set_index('A')[['B', 'D']].f\n",
    "```"
   ]
  },
  {
   "cell_type": "code",
   "execution_count": 386,
   "metadata": {
    "collapsed": true
   },
   "outputs": [],
   "source": [
    "class this(_X): pass\n",
    "new_this_method = method(this)"
   ]
  },
  {
   "cell_type": "markdown",
   "metadata": {},
   "source": [
    "> Create a token to access an item.   Arbitrary functions can be applied with a `|`."
   ]
  },
  {
   "cell_type": "code",
   "execution_count": 387,
   "metadata": {
    "collapsed": true
   },
   "outputs": [],
   "source": [
    "@new_this_method\n",
    "def __getitem__(self, item)->_X:\n",
    "    self._tokens.append([lambda item, x: x[item], [item], {}])\n",
    "    return self"
   ]
  },
  {
   "cell_type": "markdown",
   "metadata": {},
   "source": [
    "> Create a token to get an attribute."
   ]
  },
  {
   "cell_type": "code",
   "execution_count": 388,
   "metadata": {
    "collapsed": true
   },
   "outputs": [],
   "source": [
    "@new_this_method\n",
    "def __getattr__(self, item)->_X:\n",
    "    self._tokens.append([lambda item, x: getattr(x, item), [item], {}])\n",
    "    return self"
   ]
  },
  {
   "cell_type": "markdown",
   "metadata": {},
   "source": [
    "> Create a token to call arguments and kwargs on an attribute or item."
   ]
  },
  {
   "cell_type": "code",
   "execution_count": 396,
   "metadata": {
    "collapsed": false
   },
   "outputs": [],
   "source": [
    "@new_this_method\n",
    "def __call__(self, *args, **kwargs)->_X:\n",
    "    \"\"\"Add args and kwargs to the tokens.\n",
    "    \"\"\"\n",
    "    self._tokens.append(\n",
    "        [lambda args, kwargs, fn: fn(*args, **kwargs), [args, kwargs], {}]\n",
    "    )\n",
    "    return self"
   ]
  },
  {
   "cell_type": "markdown",
   "metadata": {},
   "source": [
    "# About the design\n",
    "\n",
    "The goal of `Chain` is rapidly prototype code using powerful modules in the \n",
    "Python ecosystem.  More specifically, this was designed with the intent of \n",
    "creating data rich web applications that may work client or server side.\n",
    "\n",
    "Applications are complex.  Fortunately, `conda` and `pip` provide lower \n",
    "barriers to entry for building complex systems.  With this access, it is \n",
    "possible to write functional code that spans loading through an ETL pipeline\n",
    "to an application.  This workflow was inspired greatly by `toolz` and chainable `d3`\n",
    "expressions.  Choosing these opinions greatly minimizes the need for naming.\n",
    "\n",
    "## Naming\n",
    "\n",
    "Naming takes time and have the potential to confuse others.  The python ecosystem \n",
    "provides a broad corpus to load, transform, model, and visualize data with simple\n",
    "methods to deploy them into applications or scale to other day.\n",
    "\n",
    "I don't want to name stuff.  Also, I want to write code quicker.  Using existing namespaces\n",
    "enhances code prediction while developing in the notebook.\n",
    "\n",
    "## Intent\n",
    "\n",
    "* Design a lightweight class that offers a typographically and functionally compact python syntax.\n",
    "* Maximize screen real estate for impact.  This optimizes copy and paste ability.\n",
    "* Lazy.  Most of this comes from toolz.\n",
    "* Reusability.\n",
    "* Don't create a new grammar.\n",
    "\n",
    "## Advantages\n",
    "\n",
    "* Less decisions to make, better code prediction.\n",
    "* Complex operations can be isolated to a notebook cell\n",
    "* Enhanced copy and pasting abilities.\n",
    "\n",
    "## History\n",
    "\n",
    "1. Design an API that mimics [`chain` from `underscorejs`](http://underscorejs.org/#chain).  This \n",
    "includes the `value` function that evaluates that `chain`.  `Chain` could only use `builtins` and `toolz.curried`.\n",
    "\n",
    "    ```python\n",
    "    Chain([1,2,3]).map(lambda x: x**2).list()\n",
    "    ```\n",
    "    \n",
    "    `value` can take args and kwargs to apply a different context to the functions.\n",
    "\n",
    "    ```python\n",
    "    c = Chain([1,2,3]).map(lambda x: x**2).list()\n",
    "    c.value([3,5,7])\n",
    "    ```\n",
    "\n",
    "2. Extend the API to functions in the global namespace using the `__getitem__` method.  Chaining functions\n",
    "using the attribute created a nice typographic layout.\n",
    "\n",
    "    ```python\n",
    "    Chain([1,2,3])[\n",
    "        map(lambda x: x**2)\n",
    "    ].list()\n",
    "    ```\n",
    "    \n",
    "3. Add syntactic sugar to extend and evaluate a chain.  \n",
    "\n",
    "    __extend a chain__ `Chain([1,2,3]) | map(lambda x: x**2) | list`\n",
    "    \n",
    "    __evaluate a chain__ `Chain([1,2,3]) | map(lambda x: x**2) > list`"
   ]
  },
  {
   "cell_type": "code",
   "execution_count": null,
   "metadata": {
    "collapsed": true
   },
   "outputs": [],
   "source": []
  }
 ],
 "metadata": {
  "anaconda-cloud": {},
  "kernelspec": {
   "display_name": "Python [Root]",
   "language": "python",
   "name": "Python [Root]"
  },
  "language_info": {
   "codemirror_mode": {
    "name": "ipython",
    "version": 3
   },
   "file_extension": ".py",
   "mimetype": "text/x-python",
   "name": "python",
   "nbconvert_exporter": "python",
   "pygments_lexer": "ipython3",
   "version": "3.5.2"
  }
 },
 "nbformat": 4,
 "nbformat_minor": 0
}
