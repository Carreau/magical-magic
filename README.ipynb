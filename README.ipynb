{
 "cells": [
  {
   "cell_type": "markdown",
   "metadata": {},
   "source": [
    "# WhateverForever\n",
    "\n",
    "> Build simple, powerful jigs for your Jupyter notebook."
   ]
  },
  {
   "cell_type": "markdown",
   "metadata": {},
   "source": [
    "## Install\n",
    "From the command line (or with `!` in a notebook cell):\n",
    "```bash\n",
    "pip install whatever4e\n",
    "```"
   ]
  },
  {
   "cell_type": "markdown",
   "metadata": {},
   "source": [
    "## Enable\n",
    "### Ad-hoc\n",
    "In the notebook, you can use the `%load_ext` or `%reload_ext` line magic."
   ]
  },
  {
   "cell_type": "code",
   "execution_count": 1,
   "metadata": {
    "collapsed": false
   },
   "outputs": [],
   "source": [
    "from whatever4e import Chain, Whatever"
   ]
  },
  {
   "cell_type": "markdown",
   "metadata": {},
   "source": [
    "## Create\n",
    "The missing `%%markdown` magic."
   ]
  },
  {
   "cell_type": "code",
   "execution_count": 2,
   "metadata": {
    "collapsed": false
   },
   "outputs": [
    {
     "name": "stderr",
     "output_type": "stream",
     "text": [
      "/Users/tfast/anaconda/lib/python3.5/site-packages/pytz/__init__.py:29: UserWarning: Module toolz was already imported from /Users/tfast/anaconda/lib/python3.5/site-packages/toolz/__init__.py, but /Users/tfast/w4e is being added to sys.path\n",
      "  from pkg_resources import resource_stream\n"
     ]
    },
    {
     "data": {
      "application/javascript": [
       "require([\n",
       "                        \"notebook/js/codecell\",\n",
       "                        \"codemirror/mode/markdown/markdown\"\n",
       "                    ],\n",
       "                    function(cc){\n",
       "                        cc.CodeCell.options_default.highlight_modes.magic_markdown = {\n",
       "                            reg: [\"^%%markdown\"]\n",
       "                        };\n",
       "                    }\n",
       "                );\n",
       "                "
      ],
      "text/plain": [
       "<IPython.core.display.Javascript object>"
      ]
     },
     "metadata": {},
     "output_type": "display_data"
    }
   ],
   "source": [
    "from jinja2 import Template\n",
    "from pandas.util.testing import makeTimeDataFrame\n",
    "df = makeTimeDataFrame()\n",
    "@Whatever.cell('markdown', lang='markdown')\n",
    "def render_template_globals(cell):\n",
    "    return Template(cell).render(**globals())"
   ]
  },
  {
   "cell_type": "code",
   "execution_count": 3,
   "metadata": {
    "collapsed": false
   },
   "outputs": [
    {
     "data": {
      "text/markdown": [
       "# This is markdown\n",
       "\n",
       "It has syntax highlighting because `lang` is defined.\n",
       "\n",
       "<table border=\"1\" class=\"dataframe\">\n",
       "  <thead>\n",
       "    <tr style=\"text-align: right;\">\n",
       "      <th></th>\n",
       "      <th>A</th>\n",
       "      <th>B</th>\n",
       "      <th>C</th>\n",
       "      <th>D</th>\n",
       "    </tr>\n",
       "  </thead>\n",
       "  <tbody>\n",
       "    <tr>\n",
       "      <th>2000-01-03</th>\n",
       "      <td>-1.659650</td>\n",
       "      <td>-0.370966</td>\n",
       "      <td>0.026096</td>\n",
       "      <td>2.450970</td>\n",
       "    </tr>\n",
       "    <tr>\n",
       "      <th>2000-01-04</th>\n",
       "      <td>-1.754256</td>\n",
       "      <td>0.846297</td>\n",
       "      <td>0.196810</td>\n",
       "      <td>0.231307</td>\n",
       "    </tr>\n",
       "  </tbody>\n",
       "</table>"
      ],
      "text/plain": [
       "<IPython.core.display.Markdown object>"
      ]
     },
     "metadata": {},
     "output_type": "display_data"
    }
   ],
   "source": [
    "%%markdown\n",
    "# This is markdown\n",
    "\n",
    "It has syntax highlighting because `lang` is defined.\n",
    "\n",
    "{{df.head(2).to_html()}}"
   ]
  },
  {
   "cell_type": "markdown",
   "metadata": {},
   "source": [
    "Or will update a named variable with the parsed document:"
   ]
  },
  {
   "cell_type": "code",
   "execution_count": 4,
   "metadata": {
    "collapsed": false
   },
   "outputs": [
    {
     "data": {
      "application/javascript": [
       "require([\n",
       "                        \"notebook/js/codecell\",\n",
       "                        \"codemirror/mode/jade/jade\"\n",
       "                    ],\n",
       "                    function(cc){\n",
       "                        cc.CodeCell.options_default.highlight_modes.magic_jade = {\n",
       "                            reg: [\"^%%jade\"]\n",
       "                        };\n",
       "                    }\n",
       "                );\n",
       "                "
      ],
      "text/plain": [
       "<IPython.core.display.Javascript object>"
      ]
     },
     "metadata": {},
     "output_type": "display_data"
    },
    {
     "data": {
      "text/plain": [
       "<whatever4e.Whatever at 0x11593c588>"
      ]
     },
     "execution_count": 4,
     "metadata": {},
     "output_type": "execute_result"
    }
   ],
   "source": [
    "from pyjade import process\n",
    "Whatever.cell('jade', process, lang='jade', display='HTML')"
   ]
  },
  {
   "cell_type": "code",
   "execution_count": 5,
   "metadata": {
    "collapsed": false
   },
   "outputs": [
    {
     "data": {
      "text/html": [
       "<span class=\"badge\">10</span>"
      ],
      "text/plain": [
       "<IPython.core.display.HTML object>"
      ]
     },
     "metadata": {},
     "output_type": "display_data"
    }
   ],
   "source": [
    "%%jade spock\n",
    "span.badge 10"
   ]
  },
  {
   "cell_type": "code",
   "execution_count": 6,
   "metadata": {
    "collapsed": false
   },
   "outputs": [
    {
     "data": {
      "text/plain": [
       "'<span class=\"badge\">10</span>'"
      ]
     },
     "execution_count": 6,
     "metadata": {},
     "output_type": "execute_result"
    }
   ],
   "source": [
    "spock"
   ]
  },
  {
   "cell_type": "markdown",
   "metadata": {},
   "source": [
    "## Contribute\n",
    "[Issues](https://github.com/bollwyvl/jademagic/issues) and [pull requests](https://github.com/bollwyvl/jademagic/pulls) welcome!"
   ]
  },
  {
   "cell_type": "markdown",
   "metadata": {},
   "source": [
    "## License\n",
    "`whatever4e` is released as free software under the [BSD 3-Clause license](./LICENSE)."
   ]
  },
  {
   "cell_type": "markdown",
   "metadata": {},
   "source": [
    "## Thank\n",
    "- [@lbustelo](http://github.com/lbustelo) for challenging me to an alternative to `%%html`"
   ]
  }
 ],
 "metadata": {
  "kernelspec": {
   "display_name": "Python [Root]",
   "language": "python",
   "name": "Python [Root]"
  },
  "language_info": {
   "codemirror_mode": {
    "name": "ipython",
    "version": 3
   },
   "file_extension": ".py",
   "mimetype": "text/x-python",
   "name": "python",
   "nbconvert_exporter": "python",
   "pygments_lexer": "ipython3",
   "version": "3.5.1"
  },
  "widgets": {
   "state": {},
   "version": "1.1.0"
  }
 },
 "nbformat": 4,
 "nbformat_minor": 0
}
