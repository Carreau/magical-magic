{
 "cells": [
  {
   "cell_type": "markdown",
   "metadata": {},
   "source": [
    "# yamlmagic\n",
    "> an [IPython](http://ipython.org/) magic for capturing data as YAML into a running IPython kernel.\n",
    "\n",
    "[![Build Status][svg]][status]\n",
    "![pypi][]\n",
    "\n",
    "[svg]: https://travis-ci.org/bollwyvl/yamlmagic.svg?branch=master\n",
    "[status]: https://travis-ci.org/bollwyvl/yamlmagic\n",
    "[pypi]: https://pypip.in/version/yamlmagic/badge.svg?style=flat"
   ]
  },
  {
   "cell_type": "markdown",
   "metadata": {},
   "source": [
    "## Usage\n",
    "The `%%yaml` cell magic will turn"
   ]
  },
  {
   "cell_type": "code",
   "execution_count": 19,
   "metadata": {
    "collapsed": false
   },
   "outputs": [
    {
     "data": {
      "application/javascript": [
       "\n",
       "            require(\n",
       "                [\n",
       "                    \"notebook/js/codecell\",\n",
       "                    \"codemirror/mode/yaml/yaml\"\n",
       "                ],\n",
       "                function(cc){\n",
       "                    console.log(\"adding yaml_magic\");\n",
       "                    cc.CodeCell.options_default.highlight_modes.magic_yaml = {\n",
       "                        reg: ['^%%yaml']\n",
       "                    }\n",
       "                }\n",
       "            );\n",
       "            "
      ],
      "text/plain": [
       "<IPython.core.display.Javascript object>"
      ]
     },
     "metadata": {},
     "output_type": "display_data"
    }
   ],
   "source": [
    "%%yaml x\n",
    "a_toplevel_key: 1"
   ]
  },
  {
   "cell_type": "markdown",
   "metadata": {},
   "source": [
    "## Install\n",
    "From the command line (or with `!` in a notebook cell):\n",
    "```bash\n",
    "pip install yamlmagic\n",
    "```"
   ]
  },
  {
   "cell_type": "markdown",
   "metadata": {},
   "source": [
    "## Enable\n",
    "### Ad-hoc\n",
    "In the notebook, you can use the `%load_ext` or `%reload_ext` line magic."
   ]
  },
  {
   "cell_type": "code",
   "execution_count": 13,
   "metadata": {
    "collapsed": true
   },
   "outputs": [],
   "source": [
    "%reload_ext yamlmagic"
   ]
  },
  {
   "cell_type": "markdown",
   "metadata": {},
   "source": [
    "### Configuration\n",
    "In your profile's `ipython_kernel_config.py`, you can add the following line to automatically load `yamlmagic` into all your running notebook kernels:\n",
    "\n",
    "```python\n",
    "c.InteractiveShellApp.extensions = ['yaml_magic']\n",
    "```"
   ]
  },
  {
   "cell_type": "markdown",
   "metadata": {},
   "source": [
    "## Contributing\n",
    "[Issues](https://github.com/bollwyvl/yamlmagic/issues) and [pull requests](https://github.com/bollwyvl/yamlmagic/pulls) welcome!"
   ]
  },
  {
   "cell_type": "markdown",
   "metadata": {},
   "source": [
    "## License\n",
    "`yamlmagic` is released as free software under the [BSD 3-Clause license](./LICENSE)."
   ]
  },
  {
   "cell_type": "markdown",
   "metadata": {},
   "source": [
    "## Thanks\n",
    "- [@tonyfast](http://robclewley.github.io) for asking for this\n",
    "- [@robclewley](http://robclewley.github.io) for documentation-shaming a gist into a module "
   ]
  }
 ],
 "metadata": {
  "kernelspec": {
   "display_name": "Python 3",
   "language": "python",
   "name": "python3"
  },
  "language_info": {
   "codemirror_mode": {
    "name": "ipython",
    "version": 3
   },
   "file_extension": ".py",
   "mimetype": "text/x-python",
   "name": "python",
   "nbconvert_exporter": "python",
   "pygments_lexer": "ipython3",
   "version": "3.4.2"
  }
 },
 "nbformat": 4,
 "nbformat_minor": 0
}
