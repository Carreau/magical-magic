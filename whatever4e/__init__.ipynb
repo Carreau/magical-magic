{
 "cells": [
  {
   "cell_type": "code",
   "execution_count": null,
   "metadata": {
    "collapsed": true
   },
   "outputs": [],
   "source": [
    "__version_info__ = (0, 3, 0)\n",
    "__version__ = '.'.join(map(str, __version_info__))\n",
    "\n",
    "from .chain import Chain\n",
    "from .magic import Whatever\n",
    "\n",
    "__all__ = [\n",
    "    'Whatever', 'Chain',\n",
    "]"
   ]
  }
 ],
 "metadata": {
  "anaconda-cloud": {},
  "kernelspec": {
   "display_name": "Python [Root]",
   "language": "python",
   "name": "Python [Root]"
  },
  "language_info": {
   "codemirror_mode": {
    "name": "ipython",
    "version": 3
   },
   "file_extension": ".py",
   "mimetype": "text/x-python",
   "name": "python",
   "nbconvert_exporter": "python",
   "pygments_lexer": "ipython3",
   "version": "3.5.1"
  },
  "widgets": {
   "state": {},
   "version": "1.1.0"
  }
 },
 "nbformat": 4,
 "nbformat_minor": 0
}
