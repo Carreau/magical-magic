{
 "cells": [
  {
   "cell_type": "code",
   "execution_count": 1,
   "metadata": {
    "collapsed": true
   },
   "outputs": [],
   "source": [
    "import builtins\n",
    "import toolz.curried\n",
    "from toolz.curried import *\n",
    "from types import MethodType\n",
    "from typing import Callable\n",
    "from copy import deepcopy"
   ]
  },
  {
   "cell_type": "code",
   "execution_count": 2,
   "metadata": {
    "collapsed": true
   },
   "outputs": [],
   "source": [
    "\"\"\"Compose a function by chaining.\n",
    "\n",
    "Chain([1,2,]).map(lambda x: x*2).list().value()\n",
    "\n",
    "\"\"\"\n",
    "class Chain(object):\n",
    "    _imports = [\n",
    "        builtins,\n",
    "        toolz.curried,\n",
    "    ]\n",
    "    \n",
    "    def __init__(\n",
    "        self,\n",
    "        context=None,\n",
    "        imports=[],\n",
    "        eager = True,\n",
    "    ):\n",
    "        \"\"\"Initialize the Chain method.  Include a context to evaluate the function one.\n",
    "        \"\"\"\n",
    "        self._imports.extend(imports)\n",
    "        pipe(\n",
    "            self._imports, dir, concat, unique, filter(\n",
    "                complement(lambda x: x[0] != '_')\n",
    "            ), map(\n",
    "                lambda x: setattr(self, x, self._getter)\n",
    "            ), list\n",
    "        )\n",
    "        self._context = context\n",
    "        self._tokens = [[identity, [], {}]]\n",
    "        self.eager = eager"
   ]
  },
  {
   "cell_type": "code",
   "execution_count": 3,
   "metadata": {
    "collapsed": true
   },
   "outputs": [],
   "source": [
    "new_method = lambda x: setattr(Chain, x.__name__, x)"
   ]
  },
  {
   "cell_type": "code",
   "execution_count": 4,
   "metadata": {
    "collapsed": true
   },
   "outputs": [],
   "source": [
    "@new_method\n",
    "def _compose(self):\n",
    "    return compose(\n",
    "        *pipe(\n",
    "            self._tokens,\n",
    "            reversed,\n",
    "            map(\n",
    "                lambda e: partial(\n",
    "                    e[0], *e[1], **e[2]\n",
    "                ) if e[1] or e[2] else e[0],\n",
    "            )\n",
    "        ),\n",
    "    )"
   ]
  },
  {
   "cell_type": "code",
   "execution_count": 5,
   "metadata": {
    "collapsed": false
   },
   "outputs": [],
   "source": [
    "@new_method\n",
    "def value(self, *args, **kwargs):\n",
    "    fn = self._compose()\n",
    "    if args or kwargs:\n",
    "        return fn(*args, **kwargs)\n",
    "    return fn(self._context)"
   ]
  },
  {
   "cell_type": "code",
   "execution_count": 6,
   "metadata": {
    "collapsed": false
   },
   "outputs": [],
   "source": [
    "@new_method\n",
    "def _getter(self, key):\n",
    "    \"\"\"\n",
    "    \"\"\"\n",
    "    return pipe(\n",
    "        self._imports,\n",
    "        reversed, \n",
    "        map(\n",
    "            lambda imp: getattr(imp, key) if hasattr(imp, key) else None,\n",
    "        ),\n",
    "        filter(bool),\n",
    "        first, \n",
    "    )"
   ]
  },
  {
   "cell_type": "markdown",
   "metadata": {},
   "source": [
    "> Get a callable with a string alias.  last package with \n",
    "the attribute\n",
    "\n",
    "```python\n",
    "Chain()._getter('map')\n",
    "```"
   ]
  },
  {
   "cell_type": "code",
   "execution_count": 7,
   "metadata": {
    "collapsed": true
   },
   "outputs": [],
   "source": [
    "@new_method\n",
    "def __getattr__(self, attr):\n",
    "    self._tokens.append([self._getter(attr), [], {}])\n",
    "    return self"
   ]
  },
  {
   "cell_type": "markdown",
   "metadata": {},
   "source": [
    "> Chain callables as attributes of the chain.\n",
    "\n",
    "```python\n",
    "Chain().map.partition.concat\n",
    "```"
   ]
  },
  {
   "cell_type": "code",
   "execution_count": 8,
   "metadata": {
    "collapsed": true
   },
   "outputs": [],
   "source": [
    "@new_method\n",
    "def __getitem__(self, item):\n",
    "    self._tokens.append([item, (), {}])\n",
    "    return self"
   ]
  },
  {
   "cell_type": "markdown",
   "metadata": {},
   "source": [
    "> Add any function to the chain.  This function doesn't have to be in \n",
    "`self.imports`\n",
    "\n",
    "```python\n",
    "Chain().__getitem__('map')\n",
    "```"
   ]
  },
  {
   "cell_type": "code",
   "execution_count": 9,
   "metadata": {
    "collapsed": true
   },
   "outputs": [],
   "source": [
    "@new_method\n",
    "def __call__(self, *args, **kwargs):\n",
    "    self._tokens[-1][1] = args\n",
    "    self._tokens[-1][2] = kwargs\n",
    "    return self"
   ]
  },
  {
   "cell_type": "markdown",
   "metadata": {},
   "source": [
    "> include arguments for the last token that was created.\n",
    "\n",
    "```python\n",
    "Chain().map(lambda x: x*2)\n",
    "```"
   ]
  },
  {
   "cell_type": "code",
   "execution_count": 10,
   "metadata": {
    "collapsed": true
   },
   "outputs": [],
   "source": [
    "@new_method\n",
    "def __repr__(self):\n",
    "    if not isinstance(self._context, type(None)) and self.eager:\n",
    "        return self.value().__str__()\n",
    "    return self._tokens.__str__()"
   ]
  },
  {
   "cell_type": "code",
   "execution_count": 11,
   "metadata": {
    "collapsed": true
   },
   "outputs": [],
   "source": [
    "@new_method\n",
    "def copy(self):\n",
    "    chain = Chain(self._context)\n",
    "    chain._imports = self._imports[:]\n",
    "    chain._tokens = self._tokens[:]\n",
    "    return chain   "
   ]
  },
  {
   "cell_type": "code",
   "execution_count": 12,
   "metadata": {
    "collapsed": true
   },
   "outputs": [],
   "source": [
    "@new_method\n",
    "def __or__(self, f):\n",
    "    chain = self.copy()\n",
    "    chain._tokens.append([f, [], {}])\n",
    "    return chain"
   ]
  },
  {
   "cell_type": "markdown",
   "metadata": {},
   "source": [
    "```python\n",
    "v = Chain([1,2]) | map(lambda x: x**2) | list\n",
    "assert type(v) == Chain\n",
    "```"
   ]
  },
  {
   "cell_type": "code",
   "execution_count": 13,
   "metadata": {
    "collapsed": true
   },
   "outputs": [],
   "source": [
    "@new_method\n",
    "def __gt__(self, f):\n",
    "    return self.copy()[f].value()"
   ]
  },
  {
   "cell_type": "markdown",
   "metadata": {},
   "source": [
    "```python\n",
    "Chain([1,2]).map(lambda x: x**2) > list\n",
    "```"
   ]
  }
 ],
 "metadata": {
  "anaconda-cloud": {},
  "kernelspec": {
   "display_name": "Python [Root]",
   "language": "python",
   "name": "Python [Root]"
  },
  "language_info": {
   "codemirror_mode": {
    "name": "ipython",
    "version": 3
   },
   "file_extension": ".py",
   "mimetype": "text/x-python",
   "name": "python",
   "nbconvert_exporter": "python",
   "pygments_lexer": "ipython3",
   "version": "3.5.1"
  },
  "widgets": {
   "state": {},
   "version": "1.1.0"
  }
 },
 "nbformat": 4,
 "nbformat_minor": 0
}
